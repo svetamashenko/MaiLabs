{
 "cells": [
  {
   "cell_type": "markdown",
   "id": "bf619a66",
   "metadata": {},
   "source": [
    "# Занятие 2.\n",
    "Библиотеки Numpy, Sympy и немного Scipy, Matplotlib."
   ]
  },
  {
   "cell_type": "markdown",
   "id": "15e77a7d",
   "metadata": {},
   "source": [
    "# Numpy "
   ]
  },
  {
   "cell_type": "markdown",
   "id": "1d887258",
   "metadata": {},
   "source": [
    "Это библиотека для работы с многомерными массивами. Её заслуги - быстродействие."
   ]
  },
  {
   "cell_type": "code",
   "execution_count": 106,
   "id": "ae7bef91",
   "metadata": {},
   "outputs": [],
   "source": [
    "import numpy as np"
   ]
  },
  {
   "cell_type": "code",
   "execution_count": 133,
   "id": "0219e77f",
   "metadata": {},
   "outputs": [
    {
     "name": "stdout",
     "output_type": "stream",
     "text": [
      "[1.1 2.  3.  4.  5.  6.  7.  8. ]\n",
      "[1. 2. 3. 4. 5. 6. 7. 8.]\n",
      "['1' '2' '3' '4' '5' '6' '7' '8']\n",
      "[1.+0.j 2.+0.j 3.+0.j 4.+0.j 5.+0.j 6.+0.j 7.+0.j 8.+0.j] <class 'numpy.ndarray'>\n"
     ]
    }
   ],
   "source": [
    "S=np.array([1.1,2,3,4,5,6,7,8]) # Объявление массива\n",
    "print(S)\n",
    "S1=np.array([1,2,3,4,5,6,7,8],float)\n",
    "print(S1)\n",
    "S2=np.array([1,2,3,4,5,6,7,8],str)\n",
    "print(S2)\n",
    "S3=np.array([1,2,3,4,5,6,7,8],complex)\n",
    "print(S3,type(S3))"
   ]
  },
  {
   "cell_type": "code",
   "execution_count": 134,
   "id": "8da75945",
   "metadata": {},
   "outputs": [
    {
     "name": "stdout",
     "output_type": "stream",
     "text": [
      "[[1 2 3]\n",
      " [4 5 6]\n",
      " [7 8 9]]\n"
     ]
    }
   ],
   "source": [
    "M=np.array([[1,2,3],[4,5,6],[7,8,9]])   # Матрица\n",
    "print(M)"
   ]
  },
  {
   "cell_type": "code",
   "execution_count": 135,
   "id": "ce516e33",
   "metadata": {},
   "outputs": [
    {
     "name": "stdout",
     "output_type": "stream",
     "text": [
      "[[[ 1  2  3]\n",
      "  [ 4  5  6]\n",
      "  [ 7  8  9]]\n",
      "\n",
      " [[10 11 12]\n",
      "  [13 14 15]\n",
      "  [16 17 18]]\n",
      "\n",
      " [[19 20 21]\n",
      "  [22 23 24]\n",
      "  [25 26 27]]]\n"
     ]
    }
   ],
   "source": [
    "K=np.array([[[1,2,3],[4,5,6],[7,8,9]],[[10,11,12],[13,14,15],[16,17,18]],[[19,20,21],[22,23,24],[25,26,27]]])\n",
    "print(K)  # и трёх, и более мерные массивы можно тут делать."
   ]
  },
  {
   "cell_type": "code",
   "execution_count": 136,
   "id": "3274015b",
   "metadata": {},
   "outputs": [
    {
     "name": "stdout",
     "output_type": "stream",
     "text": [
      "(8,)\n",
      "(3, 3)\n",
      "(3, 3, 3)\n",
      "3\n"
     ]
    }
   ],
   "source": [
    "print(np.shape(S))   # шейп - как многомерный len.\n",
    "print(np.shape(M))\n",
    "print(np.shape(K))\n",
    "print(np.shape(K)[1])"
   ]
  },
  {
   "cell_type": "code",
   "execution_count": 137,
   "id": "8ca7e27b",
   "metadata": {},
   "outputs": [
    {
     "name": "stdout",
     "output_type": "stream",
     "text": [
      "[4 5 6]\n",
      "[4 5 6]\n",
      "[2 5 8]\n",
      "[[1 2 3]\n",
      " [4 5 6]]\n",
      "[[1 2]\n",
      " [4 5]]\n"
     ]
    }
   ],
   "source": [
    "print(M[1])       # единственный индекс матрицы идёт по строкам\n",
    "print(M[1,:])\n",
    "print(M[:,1])\n",
    "print(M[0:2])\n",
    "print(M[0:2,0:2])"
   ]
  },
  {
   "cell_type": "code",
   "execution_count": 140,
   "id": "a677af4e",
   "metadata": {},
   "outputs": [
    {
     "name": "stdout",
     "output_type": "stream",
     "text": [
      "[[10 11 12]\n",
      " [13 14 15]\n",
      " [16 17 18]]\n",
      "[[ 2  5  8]\n",
      " [11 14 17]\n",
      " [20 23 26]]\n",
      "[16 17 18]\n",
      "[[[ 1  2]\n",
      "  [ 4  5]]\n",
      "\n",
      " [[10 11]\n",
      "  [13 14]]]\n",
      "6\n"
     ]
    }
   ],
   "source": [
    "print(K[1])\n",
    "print(K[:,:,1])  # последний индекс - столбец, перед ним - строка, перед ним - \"матрица\"\n",
    "print(K[1,2])\n",
    "print(K[0:2,0:2,0:2])   # Индексы в одних скобках работают с одним многомерным массивом\n",
    "print(K[0][1][2])       # Каждый индекс создаёт какой то свой новый вывод"
   ]
  },
  {
   "cell_type": "code",
   "execution_count": 142,
   "id": "427b1851",
   "metadata": {},
   "outputs": [
    {
     "name": "stdout",
     "output_type": "stream",
     "text": [
      "[1 2 3 4 5 6 7 8]\n",
      "[[1 2 3 4]\n",
      " [5 6 7 8]]\n",
      "[1 2 3 4 5 6 7 8]\n",
      "[[1 2]\n",
      " [3 4]\n",
      " [5 6]\n",
      " [7 8]]\n"
     ]
    },
    {
     "ename": "ValueError",
     "evalue": "cannot reshape array of size 8 into shape (3,3)",
     "output_type": "error",
     "traceback": [
      "\u001b[1;31m---------------------------------------------------------------------------\u001b[0m",
      "\u001b[1;31mValueError\u001b[0m                                Traceback (most recent call last)",
      "\u001b[1;32m<ipython-input-142-a72ea3a18cb7>\u001b[0m in \u001b[0;36m<module>\u001b[1;34m\u001b[0m\n\u001b[0;32m      5\u001b[0m \u001b[0mS\u001b[0m\u001b[1;33m=\u001b[0m\u001b[0mnp\u001b[0m\u001b[1;33m.\u001b[0m\u001b[0mreshape\u001b[0m\u001b[1;33m(\u001b[0m\u001b[0mS\u001b[0m\u001b[1;33m,\u001b[0m\u001b[1;33m[\u001b[0m\u001b[1;36m4\u001b[0m\u001b[1;33m,\u001b[0m\u001b[1;36m2\u001b[0m\u001b[1;33m]\u001b[0m\u001b[1;33m)\u001b[0m\u001b[1;33m\u001b[0m\u001b[1;33m\u001b[0m\u001b[0m\n\u001b[0;32m      6\u001b[0m \u001b[0mprint\u001b[0m\u001b[1;33m(\u001b[0m\u001b[0mS\u001b[0m\u001b[1;33m)\u001b[0m\u001b[1;33m\u001b[0m\u001b[1;33m\u001b[0m\u001b[0m\n\u001b[1;32m----> 7\u001b[1;33m \u001b[0mS\u001b[0m\u001b[1;33m=\u001b[0m\u001b[0mnp\u001b[0m\u001b[1;33m.\u001b[0m\u001b[0mreshape\u001b[0m\u001b[1;33m(\u001b[0m\u001b[0mS\u001b[0m\u001b[1;33m,\u001b[0m\u001b[1;33m[\u001b[0m\u001b[1;36m3\u001b[0m\u001b[1;33m,\u001b[0m\u001b[1;36m3\u001b[0m\u001b[1;33m]\u001b[0m\u001b[1;33m)\u001b[0m\u001b[1;33m\u001b[0m\u001b[1;33m\u001b[0m\u001b[0m\n\u001b[0m\u001b[0;32m      8\u001b[0m \u001b[0mprint\u001b[0m\u001b[1;33m(\u001b[0m\u001b[0mS\u001b[0m\u001b[1;33m)\u001b[0m\u001b[1;33m\u001b[0m\u001b[1;33m\u001b[0m\u001b[0m\n",
      "\u001b[1;32m<__array_function__ internals>\u001b[0m in \u001b[0;36mreshape\u001b[1;34m(*args, **kwargs)\u001b[0m\n",
      "\u001b[1;32mD:\\anaconda\\lib\\site-packages\\numpy\\core\\fromnumeric.py\u001b[0m in \u001b[0;36mreshape\u001b[1;34m(a, newshape, order)\u001b[0m\n\u001b[0;32m    297\u001b[0m            [5, 6]])\n\u001b[0;32m    298\u001b[0m     \"\"\"\n\u001b[1;32m--> 299\u001b[1;33m     \u001b[1;32mreturn\u001b[0m \u001b[0m_wrapfunc\u001b[0m\u001b[1;33m(\u001b[0m\u001b[0ma\u001b[0m\u001b[1;33m,\u001b[0m \u001b[1;34m'reshape'\u001b[0m\u001b[1;33m,\u001b[0m \u001b[0mnewshape\u001b[0m\u001b[1;33m,\u001b[0m \u001b[0morder\u001b[0m\u001b[1;33m=\u001b[0m\u001b[0morder\u001b[0m\u001b[1;33m)\u001b[0m\u001b[1;33m\u001b[0m\u001b[1;33m\u001b[0m\u001b[0m\n\u001b[0m\u001b[0;32m    300\u001b[0m \u001b[1;33m\u001b[0m\u001b[0m\n\u001b[0;32m    301\u001b[0m \u001b[1;33m\u001b[0m\u001b[0m\n",
      "\u001b[1;32mD:\\anaconda\\lib\\site-packages\\numpy\\core\\fromnumeric.py\u001b[0m in \u001b[0;36m_wrapfunc\u001b[1;34m(obj, method, *args, **kwds)\u001b[0m\n\u001b[0;32m     56\u001b[0m \u001b[1;33m\u001b[0m\u001b[0m\n\u001b[0;32m     57\u001b[0m     \u001b[1;32mtry\u001b[0m\u001b[1;33m:\u001b[0m\u001b[1;33m\u001b[0m\u001b[1;33m\u001b[0m\u001b[0m\n\u001b[1;32m---> 58\u001b[1;33m         \u001b[1;32mreturn\u001b[0m \u001b[0mbound\u001b[0m\u001b[1;33m(\u001b[0m\u001b[1;33m*\u001b[0m\u001b[0margs\u001b[0m\u001b[1;33m,\u001b[0m \u001b[1;33m**\u001b[0m\u001b[0mkwds\u001b[0m\u001b[1;33m)\u001b[0m\u001b[1;33m\u001b[0m\u001b[1;33m\u001b[0m\u001b[0m\n\u001b[0m\u001b[0;32m     59\u001b[0m     \u001b[1;32mexcept\u001b[0m \u001b[0mTypeError\u001b[0m\u001b[1;33m:\u001b[0m\u001b[1;33m\u001b[0m\u001b[1;33m\u001b[0m\u001b[0m\n\u001b[0;32m     60\u001b[0m         \u001b[1;31m# A TypeError occurs if the object does have such a method in its\u001b[0m\u001b[1;33m\u001b[0m\u001b[1;33m\u001b[0m\u001b[1;33m\u001b[0m\u001b[0m\n",
      "\u001b[1;31mValueError\u001b[0m: cannot reshape array of size 8 into shape (3,3)"
     ]
    }
   ],
   "source": [
    "S=np.array([1,2,3,4,5,6,7,8])\n",
    "print(S)\n",
    "print(np.reshape(S,[2,4]))  # решейп - переделать формат матрицы\n",
    "print(S)\n",
    "S=np.reshape(S,[4,2])\n",
    "print(S)\n",
    "S=np.reshape(S,[3,3])\n",
    "print(S)"
   ]
  },
  {
   "cell_type": "code",
   "execution_count": 143,
   "id": "aff019d9",
   "metadata": {},
   "outputs": [
    {
     "name": "stdout",
     "output_type": "stream",
     "text": [
      "[ 1  2  3  4  5  6  7  8  9 10 11 12 13 14 15]\n"
     ]
    }
   ],
   "source": [
    "a=np.array([1,2,3,4,5])\n",
    "b=np.array([6,7,8,9,10])\n",
    "c=np.array([11,12,13,14,15])\n",
    "print(np.concatenate((a, b, c)))   # приписывает одно к другому"
   ]
  },
  {
   "cell_type": "code",
   "execution_count": 150,
   "id": "bdd942ea",
   "metadata": {},
   "outputs": [
    {
     "name": "stdout",
     "output_type": "stream",
     "text": [
      "[[ 1  2  3  4  5]\n",
      " [ 6  7  8  9 10]\n",
      " [11 12 13 14 15]]\n",
      "[[ 1  2  3  4  5  6  7  8  9 10 11 12 13 14 15]]\n"
     ]
    }
   ],
   "source": [
    "a=np.array([[1,2,3,4,5]])\n",
    "b=np.array([[6,7,8,9,10]])\n",
    "c=np.array([[11,12,13,14,15]])\n",
    "print(np.concatenate((a, b, c)))\n",
    "print(np.concatenate((a, b, c),axis=1))  # для многомерных массивов \"направление\" таких операций можно менять"
   ]
  },
  {
   "cell_type": "code",
   "execution_count": 149,
   "id": "bef60656",
   "metadata": {},
   "outputs": [
    {
     "name": "stdout",
     "output_type": "stream",
     "text": [
      "[[ 1]\n",
      " [ 2]\n",
      " [ 3]\n",
      " [ 4]\n",
      " [ 5]\n",
      " [ 6]\n",
      " [ 7]\n",
      " [ 8]\n",
      " [ 9]\n",
      " [10]\n",
      " [11]\n",
      " [12]\n",
      " [13]\n",
      " [14]\n",
      " [15]]\n",
      "[[ 1  6 11]\n",
      " [ 2  7 12]\n",
      " [ 3  8 13]\n",
      " [ 4  9 14]\n",
      " [ 5 10 15]]\n"
     ]
    }
   ],
   "source": [
    "a=np.transpose(np.array([[1,2,3,4,5]]))      # переделаем матрицы-строчки в вектора\n",
    "b=np.transpose(np.array([[6,7,8,9,10]]))\n",
    "c=np.transpose(np.array([[11,12,13,14,15]]))\n",
    "print(np.concatenate((a, b, c)))\n",
    "print(np.concatenate((a, b, c),axis=1))"
   ]
  },
  {
   "cell_type": "markdown",
   "id": "e2a7850a",
   "metadata": {},
   "source": [
    "Создание служебных массивов"
   ]
  },
  {
   "cell_type": "code",
   "execution_count": 151,
   "id": "a097a664",
   "metadata": {},
   "outputs": [
    {
     "name": "stdout",
     "output_type": "stream",
     "text": [
      "[ 0.   3.2  6.4  9.6 12.8]\n",
      "[ 0.   2.5  5.   7.5 10.  12.5 15. ]\n"
     ]
    }
   ],
   "source": [
    "S=np.arange(0,15,3.2)       # от 0 до 15 с шагом 3.2\n",
    "print(S)\n",
    "S=np.linspace(0,15,7)  # от 0 до 15 7 точек\n",
    "print(S)"
   ]
  },
  {
   "cell_type": "code",
   "execution_count": 153,
   "id": "d28677a1",
   "metadata": {},
   "outputs": [
    {
     "name": "stdout",
     "output_type": "stream",
     "text": [
      "[0. 0. 0. 0. 0. 0. 0. 0. 0. 0. 0. 0. 0. 0. 0.]\n",
      "[[0 0 0 0 0]\n",
      " [0 0 0 0 0]\n",
      " [0 0 0 0 0]]\n",
      "[[[0.+0.j 0.+0.j 0.+0.j]\n",
      "  [0.+0.j 0.+0.j 0.+0.j]\n",
      "  [0.+0.j 0.+0.j 0.+0.j]\n",
      "  [0.+0.j 0.+0.j 0.+0.j]]\n",
      "\n",
      " [[0.+0.j 0.+0.j 0.+0.j]\n",
      "  [0.+0.j 0.+0.j 0.+0.j]\n",
      "  [0.+0.j 0.+0.j 0.+0.j]\n",
      "  [0.+0.j 0.+0.j 0.+0.j]]\n",
      "\n",
      " [[0.+0.j 0.+0.j 0.+0.j]\n",
      "  [0.+0.j 0.+0.j 0.+0.j]\n",
      "  [0.+0.j 0.+0.j 0.+0.j]\n",
      "  [0.+0.j 0.+0.j 0.+0.j]]\n",
      "\n",
      " [[0.+0.j 0.+0.j 0.+0.j]\n",
      "  [0.+0.j 0.+0.j 0.+0.j]\n",
      "  [0.+0.j 0.+0.j 0.+0.j]\n",
      "  [0.+0.j 0.+0.j 0.+0.j]]\n",
      "\n",
      " [[0.+0.j 0.+0.j 0.+0.j]\n",
      "  [0.+0.j 0.+0.j 0.+0.j]\n",
      "  [0.+0.j 0.+0.j 0.+0.j]\n",
      "  [0.+0.j 0.+0.j 0.+0.j]]]\n"
     ]
    }
   ],
   "source": [
    "S=np.zeros(15) \n",
    "print(S)\n",
    "S=np.zeros([3,5],int) \n",
    "print(S)\n",
    "S=np.zeros([5,4,3],complex) \n",
    "print(S)"
   ]
  },
  {
   "cell_type": "code",
   "execution_count": 154,
   "id": "adc92c23",
   "metadata": {},
   "outputs": [
    {
     "name": "stdout",
     "output_type": "stream",
     "text": [
      "[[1 1 1 1 1]\n",
      " [1 1 1 1 1]\n",
      " [1 1 1 1 1]]\n"
     ]
    }
   ],
   "source": [
    "S=np.ones([3,5],int) \n",
    "print(S)"
   ]
  },
  {
   "cell_type": "code",
   "execution_count": 161,
   "id": "0794a701",
   "metadata": {},
   "outputs": [
    {
     "name": "stdout",
     "output_type": "stream",
     "text": [
      "[[1. 0. 0. 0. 0. 0.]\n",
      " [0. 1. 0. 0. 0. 0.]\n",
      " [0. 0. 1. 0. 0. 0.]\n",
      " [0. 0. 0. 1. 0. 0.]\n",
      " [0. 0. 0. 0. 1. 0.]\n",
      " [0. 0. 0. 0. 0. 1.]]\n"
     ]
    }
   ],
   "source": [
    "S=np.eye(6) \n",
    "print(S)"
   ]
  },
  {
   "cell_type": "code",
   "execution_count": 162,
   "id": "3ec62321",
   "metadata": {},
   "outputs": [
    {
     "name": "stdout",
     "output_type": "stream",
     "text": [
      "[[[0 0 0]\n",
      "  [0 0 0]\n",
      "  [0 0 0]]\n",
      "\n",
      " [[0 0 0]\n",
      "  [0 0 0]\n",
      "  [0 0 0]]\n",
      "\n",
      " [[0 0 0]\n",
      "  [0 0 0]\n",
      "  [0 0 0]]]\n",
      "[[1 1 1]\n",
      " [1 1 1]\n",
      " [1 1 1]]\n"
     ]
    }
   ],
   "source": [
    "S=np.zeros_like(K)\n",
    "print(S)\n",
    "S=np.ones_like(M)\n",
    "print(S)"
   ]
  },
  {
   "cell_type": "code",
   "execution_count": 168,
   "id": "818eecd6",
   "metadata": {},
   "outputs": [
    {
     "name": "stdout",
     "output_type": "stream",
     "text": [
      "[[0 0 1 1 0 0 1 1 0 0 1 1 0 0 1 1]\n",
      " [0 0 1 1 0 0 1 1 0 0 1 1 0 0 1 1]\n",
      " [1 1 0 0 1 1 0 0 1 1 0 0 1 1 0 0]\n",
      " [1 1 0 0 1 1 0 0 1 1 0 0 1 1 0 0]\n",
      " [0 0 1 1 0 0 1 1 0 0 1 1 0 0 1 1]\n",
      " [0 0 1 1 0 0 1 1 0 0 1 1 0 0 1 1]\n",
      " [1 1 0 0 1 1 0 0 1 1 0 0 1 1 0 0]\n",
      " [1 1 0 0 1 1 0 0 1 1 0 0 1 1 0 0]\n",
      " [0 0 1 1 0 0 1 1 0 0 1 1 0 0 1 1]\n",
      " [0 0 1 1 0 0 1 1 0 0 1 1 0 0 1 1]\n",
      " [1 1 0 0 1 1 0 0 1 1 0 0 1 1 0 0]\n",
      " [1 1 0 0 1 1 0 0 1 1 0 0 1 1 0 0]\n",
      " [0 0 1 1 0 0 1 1 0 0 1 1 0 0 1 1]\n",
      " [0 0 1 1 0 0 1 1 0 0 1 1 0 0 1 1]\n",
      " [1 1 0 0 1 1 0 0 1 1 0 0 1 1 0 0]\n",
      " [1 1 0 0 1 1 0 0 1 1 0 0 1 1 0 0]]\n"
     ]
    }
   ],
   "source": [
    "Z=np.zeros([2,2],int)\n",
    "O=np.ones([2,2],int)\n",
    "print(np.block([[Z,O,Z,O,Z,O,Z,O],[O,Z,O,Z,O,Z,O,Z],[Z,O,Z,O,Z,O,Z,O],[O,Z,O,Z,O,Z,O,Z],[Z,O,Z,O,Z,O,Z,O],[O,Z,O,Z,O,Z,O,Z],[Z,O,Z,O,Z,O,Z,O],[O,Z,O,Z,O,Z,O,Z]]))"
   ]
  },
  {
   "cell_type": "code",
   "execution_count": 169,
   "id": "11356f09",
   "metadata": {},
   "outputs": [
    {
     "name": "stdout",
     "output_type": "stream",
     "text": [
      "[[ 8 10 12]\n",
      " [14 16 18]]\n",
      "[[-6 -6 -6]\n",
      " [-6 -6 -6]]\n",
      "[[ 7 16 27]\n",
      " [40 55 72]]\n",
      "[[0.14285714 0.25       0.33333333]\n",
      " [0.4        0.45454545 0.5       ]]\n"
     ]
    }
   ],
   "source": [
    "M1=np.array([[1,2,3],[4,5,6]])\n",
    "M2=np.array([[7,8,9],[10,11,12]])\n",
    "M3=np.transpose(M2)\n",
    "print(M1+M2)       # Операции заведомо поэлементны\n",
    "print(M1-M2)\n",
    "print(M1*M2)\n",
    "print(M1/M2)"
   ]
  },
  {
   "cell_type": "code",
   "execution_count": 170,
   "id": "159e528f",
   "metadata": {},
   "outputs": [
    {
     "name": "stdout",
     "output_type": "stream",
     "text": [
      "[[ 50  68]\n",
      " [122 167]]\n",
      "[[47 64 81]\n",
      " [52 71 90]\n",
      " [57 78 99]]\n"
     ]
    }
   ],
   "source": [
    "print(np.dot(M1,M3))   # матричное умножение\n",
    "print(np.dot(M3,M1))"
   ]
  },
  {
   "cell_type": "code",
   "execution_count": 174,
   "id": "0c77fd6f",
   "metadata": {},
   "outputs": [
    {
     "name": "stdout",
     "output_type": "stream",
     "text": [
      "[[0 0 6]]\n"
     ]
    }
   ],
   "source": [
    "a=np.array([[2,0,0]])\n",
    "b=np.array([[0,3,0]])\n",
    "print(np.cross(a,b))              # векторное произведение"
   ]
  },
  {
   "cell_type": "code",
   "execution_count": 175,
   "id": "da51d366",
   "metadata": {},
   "outputs": [
    {
     "name": "stdout",
     "output_type": "stream",
     "text": [
      "[[1 2 3]\n",
      " [4 5 6]\n",
      " [7 8 9]]\n",
      "1\n",
      "[7 8 9]\n",
      "[3 6 9]\n",
      "5.0\n",
      "45\n",
      "[ 28  80 162]\n"
     ]
    }
   ],
   "source": [
    "print(M)\n",
    "print(M.min())       # минимум по всей матрице\n",
    "print(M.max(axis=0)) # максимум по столбцам\n",
    "print(M.max(axis=1)) # по строкам\n",
    "print(M.mean())      # среднее значение\n",
    "print(M.sum())       # сумма\n",
    "print(M.prod(axis=0))# произведение по столбцам"
   ]
  },
  {
   "cell_type": "code",
   "execution_count": 176,
   "id": "1595fbe3",
   "metadata": {},
   "outputs": [
    {
     "name": "stdout",
     "output_type": "stream",
     "text": [
      "[[ 0.84147098  0.90929743  0.14112001]\n",
      " [-0.7568025  -0.95892427 -0.2794155 ]\n",
      " [ 0.6569866   0.98935825  0.41211849]]\n",
      "[[0.         0.63092975 1.        ]\n",
      " [1.26185951 1.46497352 1.63092975]\n",
      " [1.77124375 1.89278926 2.        ]]\n"
     ]
    }
   ],
   "source": [
    "print(np.sin(M))  # математические функци также поэлементны\n",
    "print(np.log(M)/np.log(3))"
   ]
  },
  {
   "cell_type": "code",
   "execution_count": null,
   "id": "28c9de21",
   "metadata": {},
   "outputs": [],
   "source": [
    "# считаем матрицу, посчитаем её определитель"
   ]
  },
  {
   "cell_type": "code",
   "execution_count": 178,
   "id": "edb89cfd",
   "metadata": {},
   "outputs": [
    {
     "name": "stdout",
     "output_type": "stream",
     "text": [
      "7.999999999999998\n",
      "[[-0.5  0.   0.5]\n",
      " [ 0.5  0.   0. ]\n",
      " [ 0.5  0.5 -0.5]]\n",
      "[[1. 0. 0.]\n",
      " [0. 1. 0.]\n",
      " [0. 0. 1.]]\n",
      "[-1.23606798  3.23606798 -2.        ]\n",
      "[[-7.52937760e-01  4.00446571e-01  7.07106781e-01]\n",
      " [ 4.65341127e-01  6.47936163e-01 -7.07106781e-01]\n",
      " [ 4.65341127e-01  6.47936163e-01 -1.60691688e-16]]\n",
      "[3. 3. 3. 3.]\n",
      "[[1. 0. 0. 0.]\n",
      " [0. 1. 0. 0.]\n",
      " [0. 0. 1. 0.]\n",
      " [0. 0. 0. 1.]]\n"
     ]
    }
   ],
   "source": [
    "M=np.array([[0,2,0],[2,0,2],[2,2,0]])\n",
    "print(np.linalg.det(M))                # определитель\n",
    "print(np.linalg.inv(M))                # обратная матрица\n",
    "print(np.dot(M,np.linalg.inv(M)))\n",
    "vals, vecs = np.linalg.eig(M)          # собственные значения и вектора\n",
    "print(vals)\n",
    "print(vecs)\n",
    "vals, vecs = np.linalg.eig(np.eye(4)*3)          # проверка\n",
    "print(vals)\n",
    "print(vecs)"
   ]
  },
  {
   "cell_type": "code",
   "execution_count": 181,
   "id": "0b7881ff",
   "metadata": {},
   "outputs": [
    {
     "name": "stdout",
     "output_type": "stream",
     "text": [
      "[[0 2 0]\n",
      " [2 0 2]\n",
      " [2 2 0]]\n",
      "[[False  True False]\n",
      " [ True False  True]\n",
      " [ True  True False]]\n",
      "[2, 2, 2, 2, 2]\n"
     ]
    }
   ],
   "source": [
    "print(M)\n",
    "V=M>1          # сравнительные операции применяются поэлементно, создавая целую матрицу труфолсов\n",
    "print(V)\n",
    "Greaters=[]\n",
    "for strokaM,StrokaV in zip(M,V):           # цикл бежит по старшему индексу. Для матриы это строка\n",
    "    for valM,valV in zip(strokaM,StrokaV):\n",
    "        if valV:\n",
    "            Greaters.append(valM)\n",
    "print(Greaters)"
   ]
  },
  {
   "cell_type": "markdown",
   "id": "3ccb9d12",
   "metadata": {},
   "source": [
    "# Sympy\n",
    "Это работа с симвользыми выражениями, формулами"
   ]
  },
  {
   "cell_type": "code",
   "execution_count": 1,
   "id": "d84a3db8",
   "metadata": {},
   "outputs": [],
   "source": [
    "import sympy as sp"
   ]
  },
  {
   "cell_type": "code",
   "execution_count": 188,
   "id": "555a6f31",
   "metadata": {},
   "outputs": [
    {
     "name": "stdout",
     "output_type": "stream",
     "text": [
      "5*sqrt(3)\n",
      "8.66025403784439\n"
     ]
    },
    {
     "data": {
      "text/latex": [
       "$\\displaystyle 5 \\sqrt{3}$"
      ],
      "text/plain": [
       "5*sqrt(3)"
      ]
     },
     "execution_count": 188,
     "metadata": {},
     "output_type": "execute_result"
    }
   ],
   "source": [
    "print(sp.sqrt(75))   # Воспринялся, как корень\n",
    "print(sp.sqrt(75).evalf())\n",
    "sp.sqrt(75)"
   ]
  },
  {
   "cell_type": "code",
   "execution_count": 190,
   "id": "f3486dd1",
   "metadata": {},
   "outputs": [
    {
     "name": "stdout",
     "output_type": "stream",
     "text": [
      "t*sin(t) <class 'sympy.core.mul.Mul'> <class 'sympy.core.symbol.Symbol'>\n",
      "t*cos(t) + sin(t)\n",
      "-t*cos(t) + sin(t)\n",
      "t*sin(t)\n",
      "Integral(t**t, t)\n"
     ]
    }
   ],
   "source": [
    "t=sp.Symbol('t')   # Заводим символьную переменную t\n",
    "F=t*sp.sin(t)      # делаем от неё зависящую функцию\n",
    "print(F,type(F),type(t)) \n",
    "Df=sp.diff(F,t)    # Считаем от неё производную\n",
    "print(Df)\n",
    "If=sp.integrate(F,t)  # Интеграл   ну и где наша константа? \n",
    "print(If)\n",
    "print(sp.diff(If,t))  # проверка - производная от интеграла\n",
    "print(sp.integrate(t**t,t))   # неберущийся интеграл"
   ]
  },
  {
   "cell_type": "code",
   "execution_count": 191,
   "id": "57832949",
   "metadata": {},
   "outputs": [
    {
     "data": {
      "text/latex": [
       "$\\displaystyle 5 \\sin{\\left(5 \\right)}$"
      ],
      "text/plain": [
       "5*sin(5)"
      ]
     },
     "execution_count": 191,
     "metadata": {},
     "output_type": "execute_result"
    }
   ],
   "source": [
    "F.subs(t,5)  # подстановка одного аргумента"
   ]
  },
  {
   "cell_type": "code",
   "execution_count": 192,
   "id": "211f7b97",
   "metadata": {},
   "outputs": [
    {
     "name": "stdout",
     "output_type": "stream",
     "text": [
      "sin(x)**4 + cos(y)**4\n"
     ]
    }
   ],
   "source": [
    "x,y=sp.symbols('x,y')\n",
    "Fxy=(sp.sin(x))**4+(sp.cos(y))**4    # Сделаем функцию многих переменных\n",
    "print(Fxy)"
   ]
  },
  {
   "cell_type": "code",
   "execution_count": 195,
   "id": "29e470b6",
   "metadata": {},
   "outputs": [
    {
     "name": "stdout",
     "output_type": "stream",
     "text": [
      "Subs(sin(x)**4 + cos(y)**4, (x, y), (exp(t), exp(-t)))\n",
      "cos(1)**4 + sin(5)**4\n",
      "0.930767151383378\n"
     ]
    },
    {
     "data": {
      "text/latex": [
       "$\\displaystyle \\sin^{4}{\\left(e^{t} \\right)} + \\cos^{4}{\\left(e^{- t} \\right)}$"
      ],
      "text/plain": [
       "sin(exp(t))**4 + cos(exp(-t))**4"
      ]
     },
     "execution_count": 195,
     "metadata": {},
     "output_type": "execute_result"
    }
   ],
   "source": [
    "print(sp.Subs(Fxy,(x,y),(sp.exp(t),sp.exp(-t))))        # Подстановка многих переменных. Subs способен подставить формулу\n",
    "print(sp.Subs(Fxy,(x,y),(5,1)).doit()) # Она не произошла. Его надо попросить .doit()\n",
    "print(Fxy.evalf(subs={x:5,y:1}))              # для численного ответа - эвалф\n",
    "    # {x:5,y:1} - словарь A={s:4,d:7,h:10}     A[s] -> 4. s - key, 4 - значение\n",
    "sp.Subs(Fxy,(x,y),(sp.exp(t),sp.exp(-t))).doit()"
   ]
  },
  {
   "cell_type": "code",
   "execution_count": 201,
   "id": "bbcb0e45",
   "metadata": {},
   "outputs": [
    {
     "name": "stdout",
     "output_type": "stream",
     "text": [
      "x**2 + 2*x + 2*sin(x) + 5\n",
      "2*x + 2*cos(x) + 2\n",
      "1\n"
     ]
    }
   ],
   "source": [
    "x=sp.Symbol('x')\n",
    "Str='x**2+2*x+5+sin(x)'    # внутри строки sp.sin не нужен\n",
    "expr=sp.simplify(Str)+sp.sin(x)  # а вот здесь нужен.    Симплифай упрощает выражения + преобразует строку в выражение\n",
    "print(expr)\n",
    "print(sp.diff(expr,x))\n",
    "print(sp.simplify((sp.cos(x))**2 + (sp.sin(x))**2))"
   ]
  },
  {
   "cell_type": "code",
   "execution_count": 206,
   "id": "f75f2ec8",
   "metadata": {},
   "outputs": [
    {
     "name": "stdout",
     "output_type": "stream",
     "text": [
      "<function _lambdifygenerated at 0x00000235E3520E50>\n"
     ]
    },
    {
     "data": {
      "text/plain": [
       "array([0.53135865, 0.76885544])"
      ]
     },
     "execution_count": 206,
     "metadata": {},
     "output_type": "execute_result"
    }
   ],
   "source": [
    "Fxy=(sp.sin(x))**4+(sp.cos(y))**4\n",
    "# Fxy(2,1) -> ошибка. Subs - медленно\n",
    "f=sp.lambdify([x,y],Fxy,'numpy')           # превращение символьной формулы в питонскую функцию\n",
    "print(f)\n",
    "f([1,2],[2,1])                             # теперь её можно вызывать"
   ]
  },
  {
   "cell_type": "code",
   "execution_count": 209,
   "id": "681b2e49",
   "metadata": {},
   "outputs": [
    {
     "name": "stdout",
     "output_type": "stream",
     "text": [
      "Eq(x**2 + y**2, z**2)\n",
      "[(-sqrt(2)/2, -sqrt(2)/2), (sqrt(2)/2, sqrt(2)/2)]\n",
      "[-y/2 - sqrt(y**2 + 4)/2, -y/2 + sqrt(y**2 + 4)/2]\n",
      "[0.0, 0.594313016354849]\n"
     ]
    },
    {
     "ename": "NotImplementedError",
     "evalue": "multiple generators [x, sin(x)]\nNo algorithms are implemented to solve equation -x/2 + sin(x)",
     "output_type": "error",
     "traceback": [
      "\u001b[1;31m---------------------------------------------------------------------------\u001b[0m",
      "\u001b[1;31mNotImplementedError\u001b[0m                       Traceback (most recent call last)",
      "\u001b[1;32m<ipython-input-209-71f265a89b40>\u001b[0m in \u001b[0;36m<module>\u001b[1;34m\u001b[0m\n\u001b[0;32m     12\u001b[0m \u001b[1;33m\u001b[0m\u001b[0m\n\u001b[0;32m     13\u001b[0m \u001b[0mD\u001b[0m\u001b[1;33m=\u001b[0m\u001b[0msp\u001b[0m\u001b[1;33m.\u001b[0m\u001b[0mEq\u001b[0m\u001b[1;33m(\u001b[0m\u001b[0msp\u001b[0m\u001b[1;33m.\u001b[0m\u001b[0msin\u001b[0m\u001b[1;33m(\u001b[0m\u001b[0mx\u001b[0m\u001b[1;33m)\u001b[0m\u001b[1;33m,\u001b[0m\u001b[1;36m0.5\u001b[0m\u001b[1;33m*\u001b[0m\u001b[0mx\u001b[0m\u001b[1;33m)\u001b[0m        \u001b[1;31m# решение трансцендентного уравнения\u001b[0m\u001b[1;33m\u001b[0m\u001b[1;33m\u001b[0m\u001b[0m\n\u001b[1;32m---> 14\u001b[1;33m \u001b[0msp\u001b[0m\u001b[1;33m.\u001b[0m\u001b[0msolve\u001b[0m\u001b[1;33m(\u001b[0m\u001b[0mD\u001b[0m\u001b[1;33m,\u001b[0m\u001b[0mx\u001b[0m\u001b[1;33m)\u001b[0m                   \u001b[1;31m# честно признался, что не может решить это уравнение.\u001b[0m\u001b[1;33m\u001b[0m\u001b[1;33m\u001b[0m\u001b[0m\n\u001b[0m",
      "\u001b[1;32mD:\\anaconda\\lib\\site-packages\\sympy\\solvers\\solvers.py\u001b[0m in \u001b[0;36msolve\u001b[1;34m(f, *symbols, **flags)\u001b[0m\n\u001b[0;32m   1093\u001b[0m     \u001b[1;31m###########################################################################\u001b[0m\u001b[1;33m\u001b[0m\u001b[1;33m\u001b[0m\u001b[1;33m\u001b[0m\u001b[0m\n\u001b[0;32m   1094\u001b[0m     \u001b[1;32mif\u001b[0m \u001b[0mbare_f\u001b[0m\u001b[1;33m:\u001b[0m\u001b[1;33m\u001b[0m\u001b[1;33m\u001b[0m\u001b[0m\n\u001b[1;32m-> 1095\u001b[1;33m         \u001b[0msolution\u001b[0m \u001b[1;33m=\u001b[0m \u001b[0m_solve\u001b[0m\u001b[1;33m(\u001b[0m\u001b[0mf\u001b[0m\u001b[1;33m[\u001b[0m\u001b[1;36m0\u001b[0m\u001b[1;33m]\u001b[0m\u001b[1;33m,\u001b[0m \u001b[1;33m*\u001b[0m\u001b[0msymbols\u001b[0m\u001b[1;33m,\u001b[0m \u001b[1;33m**\u001b[0m\u001b[0mflags\u001b[0m\u001b[1;33m)\u001b[0m\u001b[1;33m\u001b[0m\u001b[1;33m\u001b[0m\u001b[0m\n\u001b[0m\u001b[0;32m   1096\u001b[0m     \u001b[1;32melse\u001b[0m\u001b[1;33m:\u001b[0m\u001b[1;33m\u001b[0m\u001b[1;33m\u001b[0m\u001b[0m\n\u001b[0;32m   1097\u001b[0m         \u001b[0msolution\u001b[0m \u001b[1;33m=\u001b[0m \u001b[0m_solve_system\u001b[0m\u001b[1;33m(\u001b[0m\u001b[0mf\u001b[0m\u001b[1;33m,\u001b[0m \u001b[0msymbols\u001b[0m\u001b[1;33m,\u001b[0m \u001b[1;33m**\u001b[0m\u001b[0mflags\u001b[0m\u001b[1;33m)\u001b[0m\u001b[1;33m\u001b[0m\u001b[1;33m\u001b[0m\u001b[0m\n",
      "\u001b[1;32mD:\\anaconda\\lib\\site-packages\\sympy\\solvers\\solvers.py\u001b[0m in \u001b[0;36m_solve\u001b[1;34m(f, *symbols, **flags)\u001b[0m\n\u001b[0;32m   1712\u001b[0m \u001b[1;33m\u001b[0m\u001b[0m\n\u001b[0;32m   1713\u001b[0m     \u001b[1;32mif\u001b[0m \u001b[0mresult\u001b[0m \u001b[1;32mis\u001b[0m \u001b[1;32mFalse\u001b[0m\u001b[1;33m:\u001b[0m\u001b[1;33m\u001b[0m\u001b[1;33m\u001b[0m\u001b[0m\n\u001b[1;32m-> 1714\u001b[1;33m         \u001b[1;32mraise\u001b[0m \u001b[0mNotImplementedError\u001b[0m\u001b[1;33m(\u001b[0m\u001b[1;34m'\\n'\u001b[0m\u001b[1;33m.\u001b[0m\u001b[0mjoin\u001b[0m\u001b[1;33m(\u001b[0m\u001b[1;33m[\u001b[0m\u001b[0mmsg\u001b[0m\u001b[1;33m,\u001b[0m \u001b[0mnot_impl_msg\u001b[0m \u001b[1;33m%\u001b[0m \u001b[0mf\u001b[0m\u001b[1;33m]\u001b[0m\u001b[1;33m)\u001b[0m\u001b[1;33m)\u001b[0m\u001b[1;33m\u001b[0m\u001b[1;33m\u001b[0m\u001b[0m\n\u001b[0m\u001b[0;32m   1715\u001b[0m \u001b[1;33m\u001b[0m\u001b[0m\n\u001b[0;32m   1716\u001b[0m     \u001b[1;32mif\u001b[0m \u001b[0mflags\u001b[0m\u001b[1;33m.\u001b[0m\u001b[0mget\u001b[0m\u001b[1;33m(\u001b[0m\u001b[1;34m'simplify'\u001b[0m\u001b[1;33m,\u001b[0m \u001b[1;32mTrue\u001b[0m\u001b[1;33m)\u001b[0m\u001b[1;33m:\u001b[0m\u001b[1;33m\u001b[0m\u001b[1;33m\u001b[0m\u001b[0m\n",
      "\u001b[1;31mNotImplementedError\u001b[0m: multiple generators [x, sin(x)]\nNo algorithms are implemented to solve equation -x/2 + sin(x)"
     ]
    }
   ],
   "source": [
    "x,y,z=sp.symbols('x,y,z')\n",
    "\n",
    "print(sp.Eq(x**2+y**2,z**2))  # создание уравнения\n",
    "\n",
    "A=sp.Eq(x**2+x*y,1)\n",
    "B=sp.Eq(y-x,0)\n",
    "print(sp.solve([A,B],[x,y]))  # решение системы нелинейных уравнений\n",
    "print(sp.solve(A,x))\n",
    "\n",
    "C=sp.Eq(sp.sqrt(x),0.5*x**2+x)        # решение одного уравнения\n",
    "print(sp.solve(C,x))         # подозрительно, что выдал флоат. Может быть ты решил его численно?\n",
    "\n",
    "D=sp.Eq(sp.sin(x),0.5*x)        # решение трансцендентного уравнения\n",
    "sp.solve(D,x)                   # честно признался, что не может решить это уравнение."
   ]
  },
  {
   "cell_type": "code",
   "execution_count": 212,
   "id": "2967b2da",
   "metadata": {},
   "outputs": [
    {
     "name": "stdout",
     "output_type": "stream",
     "text": [
      "<class 'sympy.core.symbol.Symbol'> <class 'sympy.core.function.UndefinedFunction'>\n",
      "Eq(f(x), C1*sin(x) + C2*cos(x))\n",
      "[Eq(f(x), (C1/2 - sqrt(3)*C2/2)*exp(x/2)*cos(sqrt(3)*x/2) - (sqrt(3)*C1/2 + C2/2)*exp(x/2)*sin(sqrt(3)*x/2)), Eq(g(x), C1*exp(x/2)*cos(sqrt(3)*x/2) - C2*exp(x/2)*sin(sqrt(3)*x/2))]\n"
     ]
    },
    {
     "data": {
      "text/latex": [
       "$\\displaystyle g{\\left(x \\right)} = C_{1} e^{\\frac{x}{2}} \\cos{\\left(\\frac{\\sqrt{3} x}{2} \\right)} - C_{2} e^{\\frac{x}{2}} \\sin{\\left(\\frac{\\sqrt{3} x}{2} \\right)}$"
      ],
      "text/plain": [
       "Eq(g(x), C1*exp(x/2)*cos(sqrt(3)*x/2) - C2*exp(x/2)*sin(sqrt(3)*x/2))"
      ]
     },
     "execution_count": 212,
     "metadata": {},
     "output_type": "execute_result"
    }
   ],
   "source": [
    "x=sp.Symbol('x')\n",
    "f=sp.symbols('f',cls=sp.Function)   # создание неизвестной функции\n",
    "print(type(x),type(f))\n",
    "\n",
    "Deq=sp.Eq(f(x).diff(x,2),-f(x))       # f''=-f\n",
    "print(sp.dsolve(Deq))                     # Решение дифура\n",
    "\n",
    "g=sp.symbols('g',cls=sp.Function)\n",
    "Deq1=sp.Eq(f(x).diff(x),-g(x)+f(x))\n",
    "Deq2=sp.Eq(g(x).diff(x),f(x))\n",
    "print(sp.dsolve((Deq1,Deq2)))             # решение системы дифуров\n",
    "sp.dsolve((Deq1,Deq2))[1]"
   ]
  },
  {
   "cell_type": "code",
   "execution_count": 213,
   "id": "332cf6f5",
   "metadata": {},
   "outputs": [
    {
     "data": {
      "image/png": "[encoded data removed]",
      "text/plain": [
       "<Figure size 432x288 with 1 Axes>"
      ]
     },
     "metadata": {
      "needs_background": "light"
     },
     "output_type": "display_data"
    },
    {
     "data": {
      "text/plain": [
       "<sympy.plotting.plot.Plot at 0x235deca3af0>"
      ]
     },
     "execution_count": 213,
     "metadata": {},
     "output_type": "execute_result"
    }
   ],
   "source": [
    "sp.plotting.plot(sp.sin(x),(x,-5,5),line_color='red')"
   ]
  },
  {
   "cell_type": "code",
   "execution_count": 214,
   "id": "1fb95d95",
   "metadata": {},
   "outputs": [
    {
     "data": {
      "image/png": "[encoded data removed]",
      "text/plain": [
       "<Figure size 432x288 with 1 Axes>"
      ]
     },
     "metadata": {
      "needs_background": "light"
     },
     "output_type": "display_data"
    },
    {
     "data": {
      "image/png": "[encoded data removed]",
      "text/plain": [
       "<Figure size 432x288 with 1 Axes>"
      ]
     },
     "metadata": {
      "needs_background": "light"
     },
     "output_type": "display_data"
    },
    {
     "data": {
      "text/plain": [
       "<sympy.plotting.plot.Plot at 0x235dec907c0>"
      ]
     },
     "execution_count": 214,
     "metadata": {},
     "output_type": "execute_result"
    }
   ],
   "source": [
    "sp.plotting.plot((sp.sin(x),(x,-5,5)),(sp.exp(sp.cos(x)),(x,-3,3)),line_color='red')\n",
    "sp.plotting.plot((sp.cos(x),(x,-5,5)),(sp.exp(sp.sin(x)),(x,-3,3)),line_color='blue')"
   ]
  },
  {
   "cell_type": "markdown",
   "id": "1f317540",
   "metadata": {},
   "source": [
    "# Численное решение уравнений"
   ]
  },
  {
   "cell_type": "code",
   "execution_count": 109,
   "id": "c121d189",
   "metadata": {},
   "outputs": [],
   "source": [
    "import scipy.optimize as sc\n",
    "import matplotlib.pyplot as plt"
   ]
  },
  {
   "cell_type": "code",
   "execution_count": 288,
   "id": "e5aadb82",
   "metadata": {
    "scrolled": true
   },
   "outputs": [
    {
     "name": "stdout",
     "output_type": "stream",
     "text": [
      "[0.]\n",
      "[1.89549427]\n",
      "[-1.89549427]\n"
     ]
    },
    {
     "data": {
      "image/png": "[encoded data removed]",
      "text/plain": [
       "<Figure size 432x288 with 1 Axes>"
      ]
     },
     "metadata": {
      "needs_background": "light"
     },
     "output_type": "display_data"
    }
   ],
   "source": [
    "F=(sp.sin(x)-0.5*x)    # sympy функция, А НЕ УРАВНЕНИЯ\n",
    "f=sp.lambdify(x,F)           # превращение символьной формулы в питонскую функцию\n",
    "\n",
    "x_Vals=np.linspace(-5,5,100)\n",
    "f_Vals=[f(x) for x in x_Vals]\n",
    "plt.plot(x_Vals,f_Vals)\n",
    "plt.grid()\n",
    "plt.plot([x_Vals[0],x_Vals[-1]],[0,0])\n",
    "\n",
    "print(sc.root(f,0).x)             # численное решение уравнения. Зависит от начальной точки.\n",
    "print(sc.root(f,2).x)\n",
    "print(sc.root(f,-2).x)"
   ]
  },
  {
   "cell_type": "code",
   "execution_count": 289,
   "id": "12e95dc2",
   "metadata": {},
   "outputs": [
    {
     "data": {
      "image/png": "[encoded data removed]",
      "text/plain": [
       "<Figure size 1224x576 with 1 Axes>"
      ]
     },
     "metadata": {
      "needs_background": "light"
     },
     "output_type": "display_data"
    }
   ],
   "source": [
    "plt.figure(figsize=(17,8))         # косметика графика\n",
    "plt.plot(x_Vals,f_Vals, 'r')\n",
    "plt.xlabel('x')\n",
    "plt.ylabel('y')\n",
    "plt.xlim([-6,6])\n",
    "plt.ylim([-4,4])\n",
    "plt.title('Поведение функции')\n",
    "plt.grid()\n",
    "plt.legend([\"f(x)\"])\n",
    "plt.show()"
   ]
  },
  {
   "cell_type": "code",
   "execution_count": 222,
   "id": "bf38ad49",
   "metadata": {},
   "outputs": [
    {
     "name": "stdout",
     "output_type": "stream",
     "text": [
      "[-1.57079633 -2.        ]\n",
      "(-2.10942374678780e-15, 1.17145536458252e-15)\n"
     ]
    }
   ],
   "source": [
    "def f1(x):\n",
    "    return (sp.sin(x[0])-0.5*x[1],sp.cos(x[0]))\n",
    "\n",
    "\n",
    "print(sc.root(f1,[0,0]).x)          # численное решение системы уравнений.\n",
    "print(f1(sc.root(f1,[0,0]).x))"
   ]
  },
  {
   "cell_type": "code",
   "execution_count": 236,
   "id": "9b0ec783",
   "metadata": {},
   "outputs": [
    {
     "name": "stdout",
     "output_type": "stream",
     "text": [
      "[[ 1.          0.        ]\n",
      " [ 0.98508553 -0.09938581]\n",
      " [ 0.96051593 -0.19689448]\n",
      " ...\n",
      " [ 0.07875186  0.07879305]\n",
      " [ 0.0854364   0.07120604]\n",
      " [ 0.09126363  0.06291224]]\n"
     ]
    },
    {
     "data": {
      "image/png": "[encoded data removed]",
      "text/plain": [
       "<Figure size 1224x576 with 1 Axes>"
      ]
     },
     "metadata": {
      "needs_background": "light"
     },
     "output_type": "display_data"
    }
   ],
   "source": [
    "from scipy.integrate import odeint\n",
    "\n",
    "def odesys(x,t,a,b):\n",
    "    dx0=x[1]-b*x[0]\n",
    "    dx1=-x[0]+a*np.sin(t)\n",
    "    return [dx0,dx1]\n",
    "x0=[1,0]\n",
    "t=np.linspace(0,100,1001)\n",
    "X=odeint(odesys,x0,t,(-0.01,0.1))\n",
    "print(X)\n",
    "plt.figure(figsize=(17,8))\n",
    "plt.plot(t,X[:,0])\n",
    "plt.plot(t,X[:,1],color='red')\n",
    "plt.xlabel('t')\n",
    "plt.ylabel('f')\n",
    "plt.title('Решение системы дифуров')\n",
    "plt.grid()\n",
    "plt.legend([\"x(t)\",\"V(t)\"])\n",
    "plt.show()\n"
   ]
  },
  {
   "cell_type": "code",
   "execution_count": 287,
   "id": "854af480",
   "metadata": {},
   "outputs": [
    {
     "data": {
      "image/png": "[encoded data removed]",
      "text/plain": [
       "<Figure size 1224x576 with 1 Axes>"
      ]
     },
     "metadata": {
      "needs_background": "light"
     },
     "output_type": "display_data"
    }
   ],
   "source": []
  },
  {
   "cell_type": "code",
   "execution_count": null,
   "id": "c3719315",
   "metadata": {},
   "outputs": [],
   "source": []
  },
  {
   "cell_type": "code",
   "execution_count": null,
   "id": "8f9b731a",
   "metadata": {},
   "outputs": [],
   "source": []
  }
 ],
 "metadata": {
  "kernelspec": {
   "display_name": "Python 3",
   "language": "python",
   "name": "python3"
  },
  "language_info": {
   "codemirror_mode": {
    "name": "ipython",
    "version": 3
   },
   "file_extension": ".py",
   "mimetype": "text/x-python",
   "name": "python",
   "nbconvert_exporter": "python",
   "pygments_lexer": "ipython3",
   "version": "3.8.8"
  }
 },
 "nbformat": 4,
 "nbformat_minor": 5
}
