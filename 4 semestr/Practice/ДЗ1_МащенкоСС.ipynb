{
 "cells": [
  {
   "cell_type": "markdown",
   "id": "d4152f53",
   "metadata": {},
   "source": [
    "Задача 1.3: Считайте строку из нескольких слов. К каждому слову припишите справа количество букв в слове, и объедините обратно в строку. Результат – в печать."
   ]
  },
  {
   "cell_type": "code",
   "execution_count": 1,
   "id": "4eb5f47b",
   "metadata": {},
   "outputs": [
    {
     "name": "stdout",
     "output_type": "stream",
     "text": [
      "Введите стоку: Считайте строку из нескольких слов\n",
      "Считайте(8) строку(6) из(2) нескольких(10) слов(4) \n"
     ]
    }
   ],
   "source": [
    "Stroka = input('Введите строку: ')\n",
    "Result = ''\n",
    "Spisok = Stroka.split(' ')\n",
    "for Slovo in Spisok:\n",
    "    Result+=Slovo+'({}) '.format(len(Slovo))\n",
    "print(Result)"
   ]
  },
  {
   "cell_type": "markdown",
   "id": "e9ccb6df",
   "metadata": {},
   "source": [
    "Задача 2.4: Считайте строку, разбейте на слова. Каждое слово переверните наоборот, и составьте обратно в строку. Результат на печать. Пример: Позавчера было жарко -> аречвазоП олыб окраж"
   ]
  },
  {
   "cell_type": "code",
   "execution_count": 2,
   "id": "79c83051",
   "metadata": {},
   "outputs": [
    {
     "name": "stdout",
     "output_type": "stream",
     "text": [
      "Введите стоку: Позавчера было жарко\n",
      "аречвазоП олыб окраж \n"
     ]
    }
   ],
   "source": [
    "Stroka = input('Введите строку: ')\n",
    "Result = ''\n",
    "Spisok = Stroka.split(' ')\n",
    "for Slovo in Spisok:\n",
    "    Result+=Slovo[::-1]+' '\n",
    "print(Result)"
   ]
  },
  {
   "cell_type": "markdown",
   "id": "f5f2a635",
   "metadata": {},
   "source": [
    "Задача 3.4: Напишите функцию, принимающую на вход два списка чисел, и меняет их нечётные элементы местами. Пример: aaaaa, bbbbb -> babab, ababa"
   ]
  },
  {
   "cell_type": "code",
   "execution_count": 85,
   "id": "7f6f4afa",
   "metadata": {},
   "outputs": [
    {
     "name": "stdout",
     "output_type": "stream",
     "text": [
      "Сделано.\n"
     ]
    }
   ],
   "source": [
    "def my_func(Sp1,Sp2):\n",
    "    A1=[]; A2=[]\n",
    "    for i in range (0, len(Sp1)):\n",
    "        if i%2==0:\n",
    "            A1.append(Sp2[i])\n",
    "            A2.append(Sp1[i])\n",
    "        else:\n",
    "            A1.append(Sp1[i])\n",
    "            A2.append(Sp2[i])    \n",
    "    return (A1, A2)\n",
    "print('Сделано.')"
   ]
  },
  {
   "cell_type": "code",
   "execution_count": 91,
   "id": "163ab283",
   "metadata": {},
   "outputs": [
    {
     "name": "stdout",
     "output_type": "stream",
     "text": [
      "Введите первый список: 1 1 1\n",
      "Введите второй список: 2 2 2\n",
      "2 1 2\n",
      "1 2 1\n"
     ]
    }
   ],
   "source": [
    "S1=input('Введите первый список: ').split(' ')\n",
    "S2=input('Введите второй список: ').split(' ')\n",
    "A1,A2 = my_func(S1,S2)\n",
    "print(' '.join(A1[:]))\n",
    "print(' '.join(A2[:]))"
   ]
  },
  {
   "cell_type": "markdown",
   "id": "49cd8c3c",
   "metadata": {},
   "source": [
    "Задача 4.5: Напишите класс «Аквариум», в нём есть поля Объём, освещение и список живности. Живность: отдельный класс. Имеет поле Имя, характеристика (например, маленькая рыбка, большая рыба, маленькая улитка, большая улитка, съедобное растение, несъедобное растение, краб), минимальный объём, минимальное освещение, список живности, кому представитель этого класса угрожает. В классе аквариума сделайте функцию, которая проверит всех обитателей на предмет соответствия объёму и освещению. Для проверки объёма надо сложить все минимальные объёмы для всех обитателей. Также сделайте функцию, проверяющую, уживётся ли эта экосистема, или там крабы съедят всех рыбок или мелкие улитки съедят всю траву. Вывод функции пусть будет содержателен."
   ]
  },
  {
   "cell_type": "code",
   "execution_count": 2,
   "id": "d4b69bb6",
   "metadata": {},
   "outputs": [
    {
     "name": "stdout",
     "output_type": "stream",
     "text": [
      "Сделано.\n"
     ]
    }
   ],
   "source": [
    "class Livestock:\n",
    "    Name=''\n",
    "    Charact=''\n",
    "    minV = 0\n",
    "    minL=0\n",
    "    Dangerous=list()\n",
    "    Stay = False;\n",
    "    \n",
    "    def __init__(self,N,C,mV,mL):\n",
    "        self.Name=N\n",
    "        self.Charact=C\n",
    "        self.minV=mV\n",
    "        self.minL=mL    \n",
    "        \n",
    "    def AddDang(self,D):\n",
    "        self.Dangerous.append(D)\n",
    "        \n",
    "class Aquarium:\n",
    "    Fauna = list()\n",
    "    \n",
    "    def __init__(self,V,L):\n",
    "        self.Volue = V\n",
    "        self.Light = L\n",
    "        \n",
    "    def AddFauna(self,F):\n",
    "        self.Fauna.append(F)\n",
    "        \n",
    "    def IfEnough(self):\n",
    "        self.Fauna=sorted(self.Fauna, key=lambda Livestock: Livestock.minV)\n",
    "        c=0\n",
    "        Out1, Out2, Out3, Out4 = '', '','',''\n",
    "        for i in self.Fauna:\n",
    "            if c+i.minV<=self.Volue and i.minL<=self.Light:\n",
    "                i.Stay = True;\n",
    "                c=c+i.minV\n",
    "                Out1+=i.Name +', '\n",
    "            elif c+i.minV<=self.Volue and i.minL>self.Light:\n",
    "                Out2+=i.Name +', '\n",
    "            elif c+i.minV>self.Volue and i.minL<=self.Light:\n",
    "                Out3+=i.Name +', '\n",
    "            else:\n",
    "                Out4+=i.Name +', '\n",
    "        return c, Out1, Out2, Out3, Out4\n",
    "        \n",
    "    def Survive(self):\n",
    "        Out = ''\n",
    "        for i in self.Fauna:\n",
    "            if i.Charact == 'Большая рыба' and i.Stay==True:\n",
    "                for c in self.Fauna:\n",
    "                    if c.Charact == 'Маленькая рыбка' and c.Stay==True:\n",
    "                        Out+='{} может съесть рыбку {}. '.format(i.Name, c.Name)\n",
    "            if i.Charact == 'Краб' and i.Stay==True:\n",
    "                for c in self.Fauna:\n",
    "                    if c.Charact == 'Маленькая рыбка' and c.Stay==True:\n",
    "                        Out+='{} может съесть рыбку {}. '.format(i.Name, c.Name)\n",
    "            if 'улитка' in i.Charact and i.Stay==True:\n",
    "                for c in self.Fauna:\n",
    "                    if c.Charact == 'Съедобное растение' and c.Stay==True:\n",
    "                        Out+='{} может съесть растение {}. '.format(i.Name, c.Name)\n",
    "        if Out=='':\n",
    "            Out='Ваша экосистема в безопасности.'\n",
    "        return Out;\n",
    "print('Сделано.')"
   ]
  },
  {
   "cell_type": "code",
   "execution_count": 5,
   "id": "bb1fdd6c",
   "metadata": {},
   "outputs": [
    {
     "name": "stdout",
     "output_type": "stream",
     "text": [
      "Хватит воды и света: Элвис, Элвис, Элвис, Барбара, Барбара, Барбара, Немо, Немо.\n",
      "Не хватит света: Карл, Карл, Карл, Клео, Клео, Клео.\n",
      "Не хватит воды: Немо, Себастьян, Себастьян, Себастьян, Шерри, Шерри, Шерри.\n",
      "Останется воды: 150 мл.\n",
      "Барбара может съесть растение Элвис. Барбара может съесть растение Элвис. Барбара может съесть растение Элвис. Барбара может съесть растение Элвис. Барбара может съесть растение Элвис. Барбара может съесть растение Элвис. Барбара может съесть растение Элвис. Барбара может съесть растение Элвис. Барбара может съесть растение Элвис. Клео может съесть растение Элвис. Клео может съесть растение Элвис. Клео может съесть растение Элвис. Клео может съесть растение Элвис. Клео может съесть растение Элвис. Клео может съесть растение Элвис. Себастьян может съесть рыбку Немо. Себастьян может съесть рыбку Немо. Себастьян может съесть рыбку Немо. Себастьян может съесть рыбку Немо. Шерри может съесть рыбку Немо. Шерри может съесть рыбку Немо. Шерри может съесть рыбку Немо. Шерри может съесть рыбку Немо. \n"
     ]
    }
   ],
   "source": [
    "Aqua = Aquarium(2000, 10)\n",
    "Fish1 = Livestock('Немо','Маленькая рыбка',400,2)\n",
    "Fish2 = Livestock('Шерри','Большая рыба',1000,5)\n",
    "Snail1= Livestock('Барбара','Маленькая улитка',200,7)\n",
    "Snail2 = Livestock('Клео','Большая улитка',300,11)\n",
    "Plant1 = Livestock('Карл','Несъедобное растение',100,14)\n",
    "Plant2 = Livestock('Элвис','Съедобное растение',150,9)\n",
    "Crab = Livestock('Себастьян','Краб',550,2)\n",
    "Fish1.AddDang(Fish2)\n",
    "Aqua.AddFauna(Fish1)\n",
    "Aqua.AddFauna(Fish2)\n",
    "Aqua.AddFauna(Snail1)\n",
    "Aqua.AddFauna(Snail2)\n",
    "Aqua.AddFauna(Plant1)\n",
    "Aqua.AddFauna(Plant2)\n",
    "Aqua.AddFauna(Crab)\n",
    "c, Out1, Out2, Out3, Out4 = Aqua.IfEnough()\n",
    "k = Aqua.Volue-c\n",
    "if Out1!=\"\":\n",
    "    print('Хватит воды и света: ' + Out1[0:-2]+'.')\n",
    "if Out2!='':\n",
    "    print('Не хватит света: ' + Out2[0:-2]+'.')\n",
    "if Out3!='':\n",
    "    print('Не хватит воды: ' + Out3[0:-2]+'.')\n",
    "if Out4!='':\n",
    "    print('Не хватит воды и света: ' + Out4[0:-2]+'.')\n",
    "print('Останется воды: {} мл.'.format(k))\n",
    "if Out1!='':\n",
    "    print(Aqua.Survive())\n",
    "else:\n",
    "    print('Подберите другую экосистему. Животные не смогут тут жить.')"
   ]
  }
 ],
 "metadata": {
  "kernelspec": {
   "display_name": "Python 3",
   "language": "python",
   "name": "python3"
  },
  "language_info": {
   "codemirror_mode": {
    "name": "ipython",
    "version": 3
   },
   "file_extension": ".py",
   "mimetype": "text/x-python",
   "name": "python",
   "nbconvert_exporter": "python",
   "pygments_lexer": "ipython3",
   "version": "3.8.8"
  }
 },
 "nbformat": 4,
 "nbformat_minor": 5
}
