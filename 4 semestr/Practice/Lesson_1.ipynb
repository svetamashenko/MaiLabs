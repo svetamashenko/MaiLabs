{
 "cells": [
  {
   "cell_type": "markdown",
   "id": "b3e515f0",
   "metadata": {},
   "source": [
    "# Начало.\n",
    "Работа с Jupyter Notebook."
   ]
  },
  {
   "cell_type": "markdown",
   "id": "8561f316",
   "metadata": {},
   "source": [
    "Каждая ячейка - кусок программы, который можно выполнить. Или текст. Переход между режимами - менюшка сверху.\n",
    "Куски программы можно запускать отдельно, в любом порядке. Можно Вставлять куски, куда вздумается."
   ]
  },
  {
   "cell_type": "code",
   "execution_count": 3,
   "id": "1a57c31a",
   "metadata": {},
   "outputs": [
    {
     "data": {
      "text/plain": [
       "True"
      ]
     },
     "execution_count": 3,
     "metadata": {},
     "output_type": "execute_result"
    }
   ],
   "source": [
    "1+2==3"
   ]
  },
  {
   "cell_type": "code",
   "execution_count": 2,
   "id": "5aa586a8",
   "metadata": {},
   "outputs": [
    {
     "data": {
      "text/plain": [
       "3"
      ]
     },
     "execution_count": 2,
     "metadata": {},
     "output_type": "execute_result"
    }
   ],
   "source": [
    "1+2"
   ]
  },
  {
   "cell_type": "markdown",
   "id": "11912c85",
   "metadata": {},
   "source": [
    "# Простые типы данных:\n",
    "1) int\n",
    "2) float\n",
    "3) string\n",
    "4) bool\n",
    "5) complex (a+bj)"
   ]
  },
  {
   "cell_type": "code",
   "execution_count": 7,
   "id": "055494ff",
   "metadata": {},
   "outputs": [
    {
     "name": "stdout",
     "output_type": "stream",
     "text": [
      "<class 'int'>\n",
      "10 ad\n",
      "<class 'float'>\n",
      "<class 'str'>\n",
      "<class 'bool'>\n",
      "<class 'complex'>\n"
     ]
    }
   ],
   "source": [
    "a=10\n",
    "print(type(a))\n",
    "print(a,'ad')\n",
    "a=30.21\n",
    "print(type(a))\n",
    "a='abra'\n",
    "print(type(a))\n",
    "a=True\n",
    "print(type(a))\n",
    "a=10+2.25j\n",
    "print(type(a))"
   ]
  },
  {
   "cell_type": "code",
   "execution_count": 10,
   "id": "e2880886",
   "metadata": {},
   "outputs": [
    {
     "name": "stdout",
     "output_type": "stream",
     "text": [
      "12 лет живёт наш Вася.\n",
      "Его температура сейчас 37.5 градусов.\n",
      "Сегодня у его класса контрольная,\n",
      "а он не может возвести в квадрат число (1+2j).\n",
      "True ли, что он болен?\n"
     ]
    }
   ],
   "source": [
    "# Вывод переменных разных типов\n",
    "a='Вася'\n",
    "b=12\n",
    "c=37.5\n",
    "d=1+2j\n",
    "e=True\n",
    "print('{0} лет живёт наш {1}.'.format(b,a))\n",
    "print('Его температура сейчас ' + str(c) + ' градусов.\\nСегодня у его класса контрольная,\\nа он не может возвести в квадрат число ' + str(d) + '.\\n' + str(e) + ' ли, что он болен?')"
   ]
  },
  {
   "cell_type": "markdown",
   "id": "ef1386e1",
   "metadata": {},
   "source": [
    "Инт."
   ]
  },
  {
   "cell_type": "code",
   "execution_count": 11,
   "id": "516951c1",
   "metadata": {},
   "outputs": [],
   "source": [
    "s=19827461298569171234519264129387649817264987216974691286491238764981276491278649128764981276491279176491764921847"
   ]
  },
  {
   "cell_type": "code",
   "execution_count": 12,
   "id": "92b0dfc8",
   "metadata": {},
   "outputs": [
    {
     "name": "stdout",
     "output_type": "stream",
     "text": [
      "39654922597138342469038528258775299634529974433949382572982477529962552982557298257529962552982558352983529843694\n"
     ]
    }
   ],
   "source": [
    "print(s*2)"
   ]
  },
  {
   "cell_type": "code",
   "execution_count": 14,
   "id": "40a32d13",
   "metadata": {},
   "outputs": [
    {
     "name": "stdout",
     "output_type": "stream",
     "text": [
      "11 <class 'int'>\n",
      "121 <class 'int'>\n",
      "12321 <class 'int'>\n",
      "12322 <class 'int'>\n",
      "1 <class 'int'>\n"
     ]
    },
    {
     "ename": "TypeError",
     "evalue": "can't convert complex to int",
     "output_type": "error",
     "traceback": [
      "\u001b[1;31m---------------------------------------------------------------------------\u001b[0m",
      "\u001b[1;31mTypeError\u001b[0m                                 Traceback (most recent call last)",
      "\u001b[1;32m<ipython-input-14-d6c9894ee966>\u001b[0m in \u001b[0;36m<module>\u001b[1;34m\u001b[0m\n\u001b[0;32m     10\u001b[0m \u001b[0ma\u001b[0m\u001b[1;33m=\u001b[0m\u001b[0mint\u001b[0m\u001b[1;33m(\u001b[0m\u001b[1;32mTrue\u001b[0m\u001b[1;33m)\u001b[0m\u001b[1;33m\u001b[0m\u001b[1;33m\u001b[0m\u001b[0m\n\u001b[0;32m     11\u001b[0m \u001b[0mprint\u001b[0m\u001b[1;33m(\u001b[0m\u001b[0ma\u001b[0m\u001b[1;33m,\u001b[0m\u001b[0mtype\u001b[0m\u001b[1;33m(\u001b[0m\u001b[0ma\u001b[0m\u001b[1;33m)\u001b[0m\u001b[1;33m)\u001b[0m\u001b[1;33m\u001b[0m\u001b[1;33m\u001b[0m\u001b[0m\n\u001b[1;32m---> 12\u001b[1;33m \u001b[0ma\u001b[0m\u001b[1;33m=\u001b[0m\u001b[0mint\u001b[0m\u001b[1;33m(\u001b[0m\u001b[1;36m1\u001b[0m\u001b[1;33m+\u001b[0m\u001b[1;36m2j\u001b[0m\u001b[1;33m)\u001b[0m\u001b[1;33m\u001b[0m\u001b[1;33m\u001b[0m\u001b[0m\n\u001b[0m\u001b[0;32m     13\u001b[0m \u001b[0mprint\u001b[0m\u001b[1;33m(\u001b[0m\u001b[0ma\u001b[0m\u001b[1;33m,\u001b[0m\u001b[0mtype\u001b[0m\u001b[1;33m(\u001b[0m\u001b[0ma\u001b[0m\u001b[1;33m)\u001b[0m\u001b[1;33m)\u001b[0m\u001b[1;33m\u001b[0m\u001b[1;33m\u001b[0m\u001b[0m\n",
      "\u001b[1;31mTypeError\u001b[0m: can't convert complex to int"
     ]
    }
   ],
   "source": [
    "# Создание и преобразование типов в инт\n",
    "a=11\n",
    "print(a,type(a))\n",
    "a=int('121')\n",
    "print(a,type(a))\n",
    "a=int(12321.795782)\n",
    "print(a,type(a))\n",
    "a=int(round(12321.795782))\n",
    "print(a,type(a))\n",
    "a=int(True)\n",
    "print(a,type(a))\n",
    "a=int(1+2j)\n",
    "print(a,type(a))"
   ]
  },
  {
   "cell_type": "code",
   "execution_count": 15,
   "id": "d98b2bb9",
   "metadata": {},
   "outputs": [
    {
     "name": "stdout",
     "output_type": "stream",
     "text": [
      "14 <class 'int'>\n",
      "8 <class 'int'>\n",
      "33 <class 'int'>\n",
      "3.6666666666666665 <class 'float'>\n",
      "3 <class 'int'>\n",
      "2 <class 'int'>\n",
      "1331 <class 'int'>\n"
     ]
    }
   ],
   "source": [
    "# Операции с интами\n",
    "a=11; b=3\n",
    "print(a+b,type(a+b))\n",
    "print(a-b,type(a-b))\n",
    "print(a*b,type(a*b))\n",
    "print(a/b,type(a/b))   # Обычное деление. результат - флоат\n",
    "print(a//b,type(a//b)) # Целочисленное деление\n",
    "print(a%b,type(a%b))   # Остаток от деления\n",
    "print(a**b,type(a**b))"
   ]
  },
  {
   "cell_type": "markdown",
   "id": "75e815d0",
   "metadata": {},
   "source": [
    "Флоат."
   ]
  },
  {
   "cell_type": "code",
   "execution_count": 16,
   "id": "6e5effc9",
   "metadata": {},
   "outputs": [
    {
     "name": "stdout",
     "output_type": "stream",
     "text": [
      "11.11 <class 'float'>\n",
      "121.12121 <class 'float'>\n",
      "12321.0 <class 'float'>\n",
      "1.0 <class 'float'>\n"
     ]
    },
    {
     "ename": "TypeError",
     "evalue": "can't convert complex to float",
     "output_type": "error",
     "traceback": [
      "\u001b[1;31m---------------------------------------------------------------------------\u001b[0m",
      "\u001b[1;31mTypeError\u001b[0m                                 Traceback (most recent call last)",
      "\u001b[1;32m<ipython-input-16-61aded51a14a>\u001b[0m in \u001b[0;36m<module>\u001b[1;34m\u001b[0m\n\u001b[0;32m      7\u001b[0m \u001b[0ma\u001b[0m\u001b[1;33m=\u001b[0m\u001b[0mfloat\u001b[0m\u001b[1;33m(\u001b[0m\u001b[1;32mTrue\u001b[0m\u001b[1;33m)\u001b[0m\u001b[1;33m\u001b[0m\u001b[1;33m\u001b[0m\u001b[0m\n\u001b[0;32m      8\u001b[0m \u001b[0mprint\u001b[0m\u001b[1;33m(\u001b[0m\u001b[0ma\u001b[0m\u001b[1;33m,\u001b[0m\u001b[0mtype\u001b[0m\u001b[1;33m(\u001b[0m\u001b[0ma\u001b[0m\u001b[1;33m)\u001b[0m\u001b[1;33m)\u001b[0m\u001b[1;33m\u001b[0m\u001b[1;33m\u001b[0m\u001b[0m\n\u001b[1;32m----> 9\u001b[1;33m \u001b[0ma\u001b[0m\u001b[1;33m=\u001b[0m\u001b[0mfloat\u001b[0m\u001b[1;33m(\u001b[0m\u001b[1;36m1\u001b[0m\u001b[1;33m+\u001b[0m\u001b[1;36m2j\u001b[0m\u001b[1;33m)\u001b[0m\u001b[1;33m\u001b[0m\u001b[1;33m\u001b[0m\u001b[0m\n\u001b[0m\u001b[0;32m     10\u001b[0m \u001b[0mprint\u001b[0m\u001b[1;33m(\u001b[0m\u001b[0ma\u001b[0m\u001b[1;33m,\u001b[0m\u001b[0mtype\u001b[0m\u001b[1;33m(\u001b[0m\u001b[0ma\u001b[0m\u001b[1;33m)\u001b[0m\u001b[1;33m)\u001b[0m\u001b[1;33m\u001b[0m\u001b[1;33m\u001b[0m\u001b[0m\n",
      "\u001b[1;31mTypeError\u001b[0m: can't convert complex to float"
     ]
    }
   ],
   "source": [
    "a=11.11\n",
    "print(a,type(a))\n",
    "a=float('121.12121')\n",
    "print(a,type(a))\n",
    "a=float(12321)\n",
    "print(a,type(a))\n",
    "a=float(True)\n",
    "print(a,type(a))\n",
    "a=float(1+2j)\n",
    "print(a,type(a))"
   ]
  },
  {
   "cell_type": "code",
   "execution_count": 17,
   "id": "4942b649",
   "metadata": {},
   "outputs": [
    {
     "name": "stdout",
     "output_type": "stream",
     "text": [
      "14.137 <class 'float'>\n",
      "8.082999999999998 <class 'float'>\n",
      "33.62997 <class 'float'>\n",
      "3.6703006276841754 <class 'float'>\n",
      "3.0 <class 'float'>\n",
      "2.028999999999999 <class 'float'>\n",
      "1463.4451726405034 <class 'float'>\n"
     ]
    }
   ],
   "source": [
    "# Операции с флоатами\n",
    "a=11.11; b=3.027\n",
    "print(a+b,type(a+b))\n",
    "print(a-b,type(a-b))\n",
    "print(a*b,type(a*b))\n",
    "print(a/b,type(a/b))   # Обычное деление\n",
    "print(a//b,type(a//b)) # Целочисленное деление\n",
    "print(a%b,type(a%b))   # Остаток от деления\n",
    "print(a**b,type(a**b))"
   ]
  },
  {
   "cell_type": "code",
   "execution_count": 19,
   "id": "3d0e5e76",
   "metadata": {},
   "outputs": [
    {
     "name": "stdout",
     "output_type": "stream",
     "text": [
      "0.6000000000000001\n"
     ]
    },
    {
     "data": {
      "text/plain": [
       "True"
      ]
     },
     "execution_count": 19,
     "metadata": {},
     "output_type": "execute_result"
    }
   ],
   "source": [
    "a=0.2+0.2+0.2\n",
    "print(a)\n",
    "a==0.6\n",
    "abs(a-0.6)<0.00000000001"
   ]
  },
  {
   "cell_type": "markdown",
   "id": "244df896",
   "metadata": {},
   "source": [
    "Строки."
   ]
  },
  {
   "cell_type": "code",
   "execution_count": 20,
   "id": "ce0ae859",
   "metadata": {},
   "outputs": [
    {
     "name": "stdout",
     "output_type": "stream",
     "text": [
      "\"это\" первый способ\n",
      "а 'это' второй\n",
      "а это третий способ\n",
      "для задания длинных\n",
      "многострочных штук\n"
     ]
    }
   ],
   "source": [
    "# Способы задания строк\n",
    "a='\"это\" первый способ'\n",
    "b=\"а 'это' второй\"\n",
    "c='''а это третий способ\n",
    "для задания длинных\n",
    "многострочных штук'''\n",
    "print(a)\n",
    "print(b)\n",
    "print(c)"
   ]
  },
  {
   "cell_type": "code",
   "execution_count": 23,
   "id": "b4ef9602",
   "metadata": {},
   "outputs": [
    {
     "name": "stdout",
     "output_type": "stream",
     "text": [
      "abcccde\n",
      "a\n",
      "В строке s1 7 символов\n",
      "acce\n",
      "Здесь лежит много слов\n",
      "лежит\n",
      "['Здесь', 'лежит', 'много', 'слов']\n",
      "Здесь, видимо, лежит, видимо, много, видимо, слов\n",
      "['а это третий способ', 'для задания длинных', 'многострочных штук']\n",
      "['а это третий ', 'по', 'об\\nдля задания длинных\\nмного', 'трочных штук']\n"
     ]
    }
   ],
   "source": [
    "# Операции со строками\n",
    "s1='a'+'b'+'c'*3+'d'+'e'\n",
    "print(s1)\n",
    "print(s1[0])\n",
    "print('В строке s1 '+str(len(s1))+' символов')\n",
    "print(s1[0:7:2]) # Начало(вкл) : конец(выкл) : шаг\n",
    "\n",
    "\n",
    "s2='Здесь лежит много слов'\n",
    "print(s2)\n",
    "Slova=s2.split(' ')  # разделяет строку по (разделителю)\n",
    "print(Slova[1])\n",
    "print(Slova)\n",
    "A=', видимо, '.join(Slova)\n",
    "print(A)\n",
    "\n",
    "print(c.split('\\n'))\n",
    "print(c.split('с'))"
   ]
  },
  {
   "cell_type": "markdown",
   "id": "c466683a",
   "metadata": {},
   "source": [
    "Булевы штуки"
   ]
  },
  {
   "cell_type": "code",
   "execution_count": 27,
   "id": "ca164ba8",
   "metadata": {},
   "outputs": [
    {
     "name": "stdout",
     "output_type": "stream",
     "text": [
      "True\n",
      "False\n",
      "True\n",
      "False\n",
      "True\n",
      "True\n",
      "False\n",
      "True\n",
      "False\n"
     ]
    }
   ],
   "source": [
    "print(3==3)\n",
    "print(3=='3')\n",
    "print(3==3.0)\n",
    "print(0.3+0.3+0.3==0.9)   #!!!\n",
    "print(0.3+0.3+0.3+0.3==1.2)   #!!!\n",
    "print(3>2 and 4<5)\n",
    "print(1>2 or 2>3)\n",
    "print('ab' in 'abc')\n",
    "print('b' not in 'hbndkrf')"
   ]
  },
  {
   "cell_type": "markdown",
   "id": "58d4f513",
   "metadata": {},
   "source": [
    "Список (он же массив, упорядоченный набор данных)"
   ]
  },
  {
   "cell_type": "code",
   "execution_count": 28,
   "id": "fc7b736f",
   "metadata": {},
   "outputs": [
    {
     "name": "stdout",
     "output_type": "stream",
     "text": [
      "[1, 2, 3]\n",
      "[]\n",
      "['a', 'bc', 'def']\n",
      "[[1, 2], [3, 4]]\n",
      "[1, 2.5, (3+4j), 'a']\n",
      "<class 'int'> <class 'float'> <class 'complex'> <class 'str'>\n",
      "[1, 2, 3, 'a', 'bc', 'def']\n"
     ]
    }
   ],
   "source": [
    "S1=[1,2,3]\n",
    "print(S1)\n",
    "S2=[]\n",
    "print(S2)\n",
    "S3=['a','bc','def']\n",
    "print(S3)\n",
    "S4=[[1,2],[3,4]]\n",
    "print(S4)\n",
    "S5=list([1, 2.5, 3+4j,'a'])\n",
    "print(S5)\n",
    "print(type(S5[0]),type(S5[1]),type(S5[2]),type(S5[3]))\n",
    "print(S1+S3)"
   ]
  },
  {
   "cell_type": "code",
   "execution_count": 29,
   "id": "910e96c8",
   "metadata": {},
   "outputs": [
    {
     "name": "stdout",
     "output_type": "stream",
     "text": [
      "4\n",
      "8\n",
      "[3, 4, 5]\n",
      "[2, 4, 6]\n",
      "[1, 4, 7]\n",
      "[2, 6]\n"
     ]
    }
   ],
   "source": [
    "S=[1,2,3,4,5,6,7,8,9]\n",
    "print(S[3])     # индекс 4 элемента\n",
    "print(S[-2])    # индекс предпоследнего элемента\n",
    "print(S[2:5])   # кусок массива с индексами от 2 до 5. 6 (под индексом 5) не включается\n",
    "print(S[1:-3:2])   # кусок массива со второго по предпредпоследний, но через раз (шаг 2)\n",
    "print(S[::3])   # каждый третий элемент\n",
    "print(S[1::4])   # каждый четвёртый элемент, начиная со второго"
   ]
  },
  {
   "cell_type": "code",
   "execution_count": 30,
   "id": "04bb7cfc",
   "metadata": {},
   "outputs": [
    {
     "name": "stdout",
     "output_type": "stream",
     "text": [
      "['Нечто новое', 2, 3, 4, 5, 6, 7, 8, 9]\n",
      "['Нечто новое', 2, 3, 4, 5, 6, 7, 8, 9]\n",
      "[1, 2, 3, 4, 5, 6, 7, 8, 9]\n"
     ]
    }
   ],
   "source": [
    "S1=S\n",
    "S2=S.copy()\n",
    "S1[0]='Нечто новое'\n",
    "print(S)    # Список - ссылочный тип. Поменял один, другой, указывающий туда же, тоже поменялся.\n",
    "print(S1)\n",
    "print(S2)"
   ]
  },
  {
   "cell_type": "code",
   "execution_count": 40,
   "id": "7089d606",
   "metadata": {},
   "outputs": [
    {
     "name": "stdout",
     "output_type": "stream",
     "text": [
      "5\n",
      "['a', 'a', 'b', 'c', 'e', 'd']\n",
      "['a', 'a', 'c', 'e', 'd'] c\n",
      "['a', 'c', 'e', 'd']\n",
      "['a', 'c', 'd', 'e']\n",
      "['a', 'c', 'e', 'd']\n",
      "['a', 'c', 'd', 'e']\n",
      "a(0_0)c(0_0)d(0_0)e\n",
      "[]\n",
      "range(0, 15, 3) 9\n",
      "[0, 3, 6, 9, 12]\n",
      "[12, 9, 6, 3, 0]\n"
     ]
    }
   ],
   "source": [
    "# Команды, связанные со списками\n",
    "S=['a','a','b','c','e']\n",
    "print(len(S))    # len() - длина массива\n",
    "S.append('d')    # добавляет элемент\n",
    "print(S)\n",
    "del S[2]         # удаление по индексу\n",
    "print(S, S[2])\n",
    "S.remove('a')    # удаление по значению (первое вхождение)\n",
    "print(S)\n",
    "print(sorted(S)) # вывод команды - отсортированный список, без изменения самого списка\n",
    "print(S)\n",
    "S.sort()         # команда сортирует список, изменяя его самого\n",
    "print(S)\n",
    "print('(0_0)'.join(S))  # объединяет в текстовую строку (только для списка строк)\n",
    "S.clear()\n",
    "print(S)\n",
    "S=range(0,15,3)\n",
    "print(S,S[3])\n",
    "S=list(range(0,15,3)) # От(вкл), До(выкл), шаг\n",
    "print(S)\n",
    "print(S[::-1])"
   ]
  },
  {
   "cell_type": "code",
   "execution_count": 38,
   "id": "9fd19853",
   "metadata": {},
   "outputs": [
    {
     "ename": "TypeError",
     "evalue": "sequence item 0: expected str instance, int found",
     "output_type": "error",
     "traceback": [
      "\u001b[1;31m---------------------------------------------------------------------------\u001b[0m",
      "\u001b[1;31mTypeError\u001b[0m                                 Traceback (most recent call last)",
      "\u001b[1;32m<ipython-input-38-cd57185bfbc4>\u001b[0m in \u001b[0;36m<module>\u001b[1;34m\u001b[0m\n\u001b[0;32m      1\u001b[0m \u001b[0mS\u001b[0m\u001b[1;33m=\u001b[0m\u001b[1;33m[\u001b[0m\u001b[1;36m1\u001b[0m\u001b[1;33m,\u001b[0m\u001b[1;36m1\u001b[0m\u001b[1;33m,\u001b[0m\u001b[1;36m2\u001b[0m\u001b[1;33m,\u001b[0m\u001b[1;36m4\u001b[0m\u001b[1;33m]\u001b[0m\u001b[1;33m\u001b[0m\u001b[1;33m\u001b[0m\u001b[0m\n\u001b[1;32m----> 2\u001b[1;33m \u001b[0mprint\u001b[0m\u001b[1;33m(\u001b[0m\u001b[1;34m'(0_0)'\u001b[0m\u001b[1;33m.\u001b[0m\u001b[0mjoin\u001b[0m\u001b[1;33m(\u001b[0m\u001b[0mS\u001b[0m\u001b[1;33m)\u001b[0m\u001b[1;33m)\u001b[0m\u001b[1;33m\u001b[0m\u001b[1;33m\u001b[0m\u001b[0m\n\u001b[0m",
      "\u001b[1;31mTypeError\u001b[0m: sequence item 0: expected str instance, int found"
     ]
    }
   ],
   "source": [
    "S=[1,1,2,4]\n",
    "print('(0_0)'.join(S))"
   ]
  },
  {
   "cell_type": "markdown",
   "id": "1b5f65a3",
   "metadata": {},
   "source": [
    "Кортеж, неизменяемый список, tuple"
   ]
  },
  {
   "cell_type": "code",
   "execution_count": 41,
   "id": "228db8d5",
   "metadata": {},
   "outputs": [
    {
     "name": "stdout",
     "output_type": "stream",
     "text": [
      "(1, 2, 3)\n",
      "2\n"
     ]
    },
    {
     "ename": "TypeError",
     "evalue": "'tuple' object does not support item assignment",
     "output_type": "error",
     "traceback": [
      "\u001b[1;31m---------------------------------------------------------------------------\u001b[0m",
      "\u001b[1;31mTypeError\u001b[0m                                 Traceback (most recent call last)",
      "\u001b[1;32m<ipython-input-41-f2b754dcfde8>\u001b[0m in \u001b[0;36m<module>\u001b[1;34m\u001b[0m\n\u001b[0;32m      2\u001b[0m \u001b[0mprint\u001b[0m\u001b[1;33m(\u001b[0m\u001b[0mt\u001b[0m\u001b[1;33m)\u001b[0m\u001b[1;33m\u001b[0m\u001b[1;33m\u001b[0m\u001b[0m\n\u001b[0;32m      3\u001b[0m \u001b[0mprint\u001b[0m\u001b[1;33m(\u001b[0m\u001b[0mt\u001b[0m\u001b[1;33m[\u001b[0m\u001b[1;36m1\u001b[0m\u001b[1;33m]\u001b[0m\u001b[1;33m)\u001b[0m\u001b[1;33m\u001b[0m\u001b[1;33m\u001b[0m\u001b[0m\n\u001b[1;32m----> 4\u001b[1;33m \u001b[0mt\u001b[0m\u001b[1;33m[\u001b[0m\u001b[1;36m1\u001b[0m\u001b[1;33m]\u001b[0m\u001b[1;33m=\u001b[0m\u001b[1;36m2\u001b[0m\u001b[1;33m\u001b[0m\u001b[1;33m\u001b[0m\u001b[0m\n\u001b[0m",
      "\u001b[1;31mTypeError\u001b[0m: 'tuple' object does not support item assignment"
     ]
    }
   ],
   "source": [
    "t=(1,2,3)  # круглые скобки\n",
    "print(t)\n",
    "print(t[1])\n",
    "t[1]=2"
   ]
  },
  {
   "cell_type": "code",
   "execution_count": 44,
   "id": "b7a5deb7",
   "metadata": {},
   "outputs": [
    {
     "name": "stdout",
     "output_type": "stream",
     "text": [
      "1 2 3\n",
      "4 5 6\n"
     ]
    },
    {
     "ename": "ValueError",
     "evalue": "too many values to unpack (expected 2)",
     "output_type": "error",
     "traceback": [
      "\u001b[1;31m---------------------------------------------------------------------------\u001b[0m",
      "\u001b[1;31mValueError\u001b[0m                                Traceback (most recent call last)",
      "\u001b[1;32m<ipython-input-44-b70404c3b821>\u001b[0m in \u001b[0;36m<module>\u001b[1;34m\u001b[0m\n\u001b[0;32m      3\u001b[0m \u001b[0ma\u001b[0m\u001b[1;33m,\u001b[0m\u001b[0mb\u001b[0m\u001b[1;33m,\u001b[0m\u001b[0mc\u001b[0m\u001b[1;33m=\u001b[0m\u001b[1;33m[\u001b[0m\u001b[1;34m'4'\u001b[0m\u001b[1;33m,\u001b[0m\u001b[1;34m'5'\u001b[0m\u001b[1;33m,\u001b[0m\u001b[1;34m'6'\u001b[0m\u001b[1;33m]\u001b[0m\u001b[1;33m\u001b[0m\u001b[1;33m\u001b[0m\u001b[0m\n\u001b[0;32m      4\u001b[0m \u001b[0mprint\u001b[0m\u001b[1;33m(\u001b[0m\u001b[0ma\u001b[0m\u001b[1;33m,\u001b[0m\u001b[0mb\u001b[0m\u001b[1;33m,\u001b[0m\u001b[0mc\u001b[0m\u001b[1;33m)\u001b[0m\u001b[1;33m\u001b[0m\u001b[1;33m\u001b[0m\u001b[0m\n\u001b[1;32m----> 5\u001b[1;33m \u001b[0ma\u001b[0m\u001b[1;33m,\u001b[0m\u001b[0mb\u001b[0m\u001b[1;33m=\u001b[0m\u001b[0mt\u001b[0m\u001b[1;33m\u001b[0m\u001b[1;33m\u001b[0m\u001b[0m\n\u001b[0m\u001b[0;32m      6\u001b[0m \u001b[0mprint\u001b[0m\u001b[1;33m(\u001b[0m\u001b[0ma\u001b[0m\u001b[1;33m,\u001b[0m\u001b[0mb\u001b[0m\u001b[1;33m)\u001b[0m\u001b[1;33m\u001b[0m\u001b[1;33m\u001b[0m\u001b[0m\n",
      "\u001b[1;31mValueError\u001b[0m: too many values to unpack (expected 2)"
     ]
    }
   ],
   "source": [
    "a,b,c=t\n",
    "print(a,b,c)\n",
    "a,b,c=['4','5','6']\n",
    "print(a,b,c)\n",
    "a,b=t   # 3 значения не распаковались в две переменные\n",
    "print(a,b)"
   ]
  },
  {
   "cell_type": "code",
   "execution_count": 45,
   "id": "56f46b2b",
   "metadata": {},
   "outputs": [
    {
     "name": "stdout",
     "output_type": "stream",
     "text": [
      "(4, 1)\n",
      "4 1\n"
     ]
    }
   ],
   "source": [
    "print(divmod(13,3))\n",
    "a,b=divmod(13,3)\n",
    "print(a,b)"
   ]
  },
  {
   "cell_type": "code",
   "execution_count": null,
   "id": "d8d3cff7",
   "metadata": {},
   "outputs": [],
   "source": [
    "Словарь:37, множество:40"
   ]
  },
  {
   "cell_type": "markdown",
   "id": "83151eb9",
   "metadata": {},
   "source": [
    "# Операторы если и циклы"
   ]
  },
  {
   "cell_type": "code",
   "execution_count": 56,
   "id": "a52cc9f3",
   "metadata": {},
   "outputs": [
    {
     "name": "stdout",
     "output_type": "stream",
     "text": [
      "15\n",
      "15, это хорошо\n",
      "14\n",
      "a>10\n",
      "13\n"
     ]
    }
   ],
   "source": [
    "a=int(input()) # input - команда для ввода\n",
    "if a>=5:\n",
    "    print('{}, это хорошо'.format(a))\n",
    "    a=a-1\n",
    "    print(a)\n",
    "elif a<=5 and a>0:\n",
    "    print('{}... маловато будет'.format(a))\n",
    "else:\n",
    "    print('Да ты охамел!')\n",
    "    \n",
    "if a>10:\n",
    "    print('a>10')\n",
    "print(a-1)"
   ]
  },
  {
   "cell_type": "code",
   "execution_count": 57,
   "id": "2f0b03a9",
   "metadata": {},
   "outputs": [
    {
     "name": "stdout",
     "output_type": "stream",
     "text": [
      "1\n",
      "1\n",
      "4\n",
      "27\n",
      "256\n",
      "3125\n",
      "46656\n",
      "823543\n",
      "16777216\n",
      "387420489\n"
     ]
    }
   ],
   "source": [
    "for a in range(10):    # Внимание: Цикл бежит по списку.\n",
    "    print(a**a)"
   ]
  },
  {
   "cell_type": "code",
   "execution_count": 58,
   "id": "a182371e",
   "metadata": {},
   "outputs": [
    {
     "name": "stdout",
     "output_type": "stream",
     "text": [
      "Введи длинную строку:Буря мглою небо кроет, вихри снежные крутя; то как зверь она завоет, то заплачет, как дитя.\n",
      "В слове \"Буря\" 4 букв.\n",
      "В слове \"мглою\" 5 букв.\n",
      "В слове \"небо\" 4 букв.\n",
      "В слове \"кроет,\" 6 букв.\n",
      "В слове \"вихри\" 5 букв.\n",
      "В слове \"снежные\" 7 букв.\n",
      "В слове \"крутя;\" 6 букв.\n",
      "В слове \"то\" 2 букв.\n",
      "В слове \"как\" 3 букв.\n",
      "В слове \"зверь\" 5 букв.\n",
      "В слове \"она\" 3 букв.\n",
      "В слове \"завоет,\" 7 букв.\n",
      "В слове \"то\" 2 букв.\n",
      "В слове \"заплачет,\" 9 букв.\n",
      "В слове \"как\" 3 букв.\n",
      "В слове \"дитя.\" 5 букв.\n",
      "А всего в этой строке 76 букв.\n"
     ]
    }
   ],
   "source": [
    "Stroka=input('Введи длинную строку:')\n",
    "Spisok=Stroka.split(' ')  # Буря мглою небо кроет, вихри снежные крутя; то как зверь она завоет, то заплачет, как дитя.\n",
    "Bukvos=[]\n",
    "for Slovo in Spisok:\n",
    "    Bukvos.append(len(Slovo))\n",
    "    print('В слове \"'+Slovo+'\" '+str(len(Slovo))+' букв.')\n",
    "print('А всего в этой строке '+str(sum(Bukvos))+' букв.')"
   ]
  },
  {
   "cell_type": "code",
   "execution_count": 72,
   "id": "2897bb40",
   "metadata": {},
   "outputs": [
    {
     "name": "stdout",
     "output_type": "stream",
     "text": [
      "sdfg\n",
      "s d f g \n",
      "s d f g\n",
      "s d f g\n"
     ]
    }
   ],
   "source": [
    "Stroka=input()\n",
    "S=[]\n",
    "for bukva in Stroka:   # строка, это \"список\" букв\n",
    "    S.append(bukva)\n",
    "    S.append(' ')\n",
    "    print(bukva,end=' ')\n",
    "print('\\n',end='')\n",
    "print(' '.join(Stroka))\n",
    "print(''.join(S[:-1]))"
   ]
  },
  {
   "cell_type": "code",
   "execution_count": 67,
   "id": "8840bbe4",
   "metadata": {},
   "outputs": [
    {
     "name": "stdout",
     "output_type": "stream",
     "text": [
      "20\n",
      "Ещё не справился. Пока только 0.9980467283227772, а надо 20\n",
      "Ещё не справился. Пока только 1.4337452571158642, а надо 20\n",
      "Ещё не справился. Пока только 1.6915784208751146, а надо 20\n",
      "Ещё не справился. Пока только 1.764664636596393, а надо 20\n",
      "Ещё не справился. Пока только 2.05718921679451, а надо 20\n",
      "Ещё не справился. Пока только 2.7698248162505683, а надо 20\n",
      "Ещё не справился. Пока только 2.8719994491161724, а надо 20\n",
      "Ещё не справился. Пока только 3.674029248800476, а надо 20\n",
      "Ещё не справился. Пока только 3.770139563288746, а надо 20\n",
      "Ещё не справился. Пока только 4.671018193845117, а надо 20\n",
      "Ещё не справился. Пока только 5.461338748244324, а надо 20\n",
      "Ещё не справился. Пока только 6.062540824698086, а надо 20\n",
      "Ещё не справился. Пока только 6.368783990885228, а надо 20\n",
      "Ещё не справился. Пока только 6.804416982697655, а надо 20\n",
      "Ещё не справился. Пока только 6.988565731046992, а надо 20\n",
      "Ещё не справился. Пока только 7.007686800450254, а надо 20\n",
      "Ещё не справился. Пока только 7.4016266847878915, а надо 20\n",
      "Ещё не справился. Пока только 7.450971085340141, а надо 20\n",
      "Ещё не справился. Пока только 7.5997712936062705, а надо 20\n",
      "Ещё не справился. Пока только 8.303979152107416, а надо 20\n",
      "Ещё не справился. Пока только 9.080493332181012, а надо 20\n",
      "Ещё не справился. Пока только 9.356945159853328, а надо 20\n",
      "Ещё не справился. Пока только 9.558723426268283, а надо 20\n",
      "Ещё не справился. Пока только 9.804881228066517, а надо 20\n",
      "Ещё не справился. Пока только 10.714630206082786, а надо 20\n",
      "Ещё не справился. Пока только 10.728803422488213, а надо 20\n",
      "Ещё не справился. Пока только 10.886944436569237, а надо 20\n",
      "Ещё не справился. Пока только 11.031882325458525, а надо 20\n",
      "Ещё не справился. Пока только 11.498359891743334, а надо 20\n",
      "Ещё не справился. Пока только 12.215503819800922, а надо 20\n",
      "Ещё не справился. Пока только 12.889878036518812, а надо 20\n",
      "Ещё не справился. Пока только 13.849666892887246, а надо 20\n",
      "Ещё не справился. Пока только 14.205401042295868, а надо 20\n",
      "Ещё не справился. Пока только 14.227450291072769, а надо 20\n",
      "Ещё не справился. Пока только 14.811149964331856, а надо 20\n",
      "Ещё не справился. Пока только 15.332879165396681, а надо 20\n",
      "Ещё не справился. Пока только 15.790919347535143, а надо 20\n",
      "Ещё не справился. Пока только 15.813698112714532, а надо 20\n",
      "Ещё не справился. Пока только 16.42397678641758, а надо 20\n",
      "Ещё не справился. Пока только 16.87108843642217, а надо 20\n",
      "Ещё не справился. Пока только 17.577464858498317, а надо 20\n",
      "Ещё не справился. Пока только 18.02280089410585, а надо 20\n",
      "Ещё не справился. Пока только 18.617915225900358, а надо 20\n",
      "Ещё не справился. Пока только 18.77691691976447, а надо 20\n",
      "Ещё не справился. Пока только 19.730858433481828, а надо 20\n",
      "Ещё не справился. Пока только 20.172908649147303, а надо 20\n",
      "Молодец, выпей чаю.\n"
     ]
    }
   ],
   "source": [
    "import random as rd\n",
    "N=int(input())\n",
    "a=0\n",
    "while a<N:\n",
    "    a+=rd.random()\n",
    "    print('Ещё не справился. Пока только {}, а надо {}'.format(a,N))\n",
    "print('Молодец, выпей чаю.')"
   ]
  },
  {
   "cell_type": "code",
   "execution_count": 73,
   "id": "3846f6bc",
   "metadata": {},
   "outputs": [
    {
     "name": "stdout",
     "output_type": "stream",
     "text": [
      "1 1.0\n",
      "2 0.7071067811865475\n",
      "4 0.5\n",
      "8 0.35355339059327373\n",
      "16 0.25\n",
      "32 0.17677669529663687\n",
      "64 0.125\n",
      "128 0.08838834764831843\n",
      "256 0.0625\n",
      "512 0.044194173824159216\n",
      "1024 0.03125\n",
      "2048 0.022097086912079608\n",
      "4096 0.015625\n",
      "8192 0.011048543456039804\n",
      "16384 0.0078125\n",
      "32768 0.005524271728019902\n",
      "65536 0.00390625\n",
      "131072 0.002762135864009951\n",
      "262144 0.001953125\n",
      "524288 0.0013810679320049755\n",
      "1048576 0.0009765625\n",
      "2097152 0.0006905339660024878\n",
      "4194304 0.00048828125\n",
      "8388608 0.0003452669830012439\n",
      "16777216 0.000244140625\n",
      "33554432 0.00017263349150062194\n",
      "67108864 0.0001220703125\n",
      "134217728 8.631674575031097e-05\n",
      "268435456 6.103515625e-05\n",
      "536870912 4.3158372875155485e-05\n",
      "1073741824 3.0517578125e-05\n",
      "2147483648 2.1579186437577742e-05\n",
      "4294967296 1.52587890625e-05\n",
      "8589934592 1.0789593218788871e-05\n",
      "17179869184 7.62939453125e-06\n",
      "34359738368 5.394796609394436e-06\n",
      "68719476736 3.814697265625e-06\n",
      "137438953472 2.697398304697218e-06\n",
      "274877906944 1.9073486328125e-06\n",
      "549755813888 1.348699152348609e-06\n",
      "1099511627776 9.5367431640625e-07\n",
      "2199023255552 6.743495761743044e-07\n",
      "4398046511104 4.76837158203125e-07\n",
      "8796093022208 3.371747880871522e-07\n",
      "17592186044416 2.384185791015625e-07\n",
      "35184372088832 1.685873940435761e-07\n",
      "70368744177664 1.1920928955078125e-07\n",
      "140737488355328 8.429369702178806e-08\n",
      "281474976710656 5.960464477539063e-08\n",
      "562949953421312 4.214684851089403e-08\n",
      "1125899906842624 2.9802322387695312e-08\n",
      "2251799813685248 2.1073424255447014e-08\n",
      "4503599627370496 1.4901161193847656e-08\n",
      "9007199254740992 1.0536712127723507e-08\n",
      "18014398509481984 7.450580596923828e-09\n",
      "36028797018963968 5.2683560638617535e-09\n",
      "72057594037927936 3.725290298461914e-09\n",
      "144115188075855872 2.6341780319308768e-09\n",
      "288230376151711744 1.862645149230957e-09\n",
      "576460752303423488 1.3170890159654384e-09\n",
      "1152921504606846976 9.313225746154785e-10\n",
      "2305843009213693952 6.585445079827192e-10\n",
      "4611686018427387904 4.656612873077393e-10\n",
      "9223372036854775808 3.292722539913596e-10\n",
      "18446744073709551616 2.3283064365386963e-10\n",
      "36893488147419103232 1.646361269956798e-10\n",
      "73786976294838206464 1.1641532182693481e-10\n",
      "147573952589676412928 8.23180634978399e-11\n"
     ]
    }
   ],
   "source": [
    "tol=10**(-10)\n",
    "S=1\n",
    "N=1\n",
    "while S>tol:\n",
    "    S=1/(N**0.5)\n",
    "    print(N,S)\n",
    "    N*=2"
   ]
  },
  {
   "cell_type": "markdown",
   "id": "2911fd24",
   "metadata": {},
   "source": [
    "# Функции"
   ]
  },
  {
   "cell_type": "code",
   "execution_count": 75,
   "id": "e751056e",
   "metadata": {},
   "outputs": [
    {
     "name": "stdout",
     "output_type": "stream",
     "text": [
      "Сделано!\n"
     ]
    }
   ],
   "source": [
    "def mean_Value(Spisok, f=0):\n",
    "    if type(Spisok[0]) in [int,float,complex]:\n",
    "        MV=sum(Spisok)/len(Spisok)\n",
    "        return (MV,f)\n",
    "    else:\n",
    "        print('В вашем массиве чушь-с')\n",
    "        return ('error: Be carefull with your lists, my friend.',f)\n",
    "# Можно что то писать\n",
    "print('Сделано!')"
   ]
  },
  {
   "cell_type": "code",
   "execution_count": 77,
   "id": "0b647e5d",
   "metadata": {
    "scrolled": true
   },
   "outputs": [
    {
     "name": "stdout",
     "output_type": "stream",
     "text": [
      "128 9845 78 34 09 9485 45\n",
      "2803.4285714285716 || 9845\n"
     ]
    }
   ],
   "source": [
    "SN=input().split(' ')\n",
    "N=[int(a) for a in SN]\n",
    "MV,f=mean_Value(N,N[1])\n",
    "print(MV, '||', f)"
   ]
  },
  {
   "cell_type": "code",
   "execution_count": 80,
   "id": "1ccda872",
   "metadata": {},
   "outputs": [
    {
     "name": "stdout",
     "output_type": "stream",
     "text": [
      "В вашем массиве чушь-с\n",
      "error: Be carefull with your lists, my friend. || as\n",
      "2.75 || 2.2\n"
     ]
    }
   ],
   "source": [
    "N = ['a', 'as', 'dfh','sdf']\n",
    "MV,f=mean_Value(N,N[1])\n",
    "print(MV, '||', f)\n",
    "N = [1.1, 2.2, 3.3, 4.4]\n",
    "MV,f=mean_Value(N,N[1])\n",
    "print(MV, '||', f)"
   ]
  },
  {
   "cell_type": "code",
   "execution_count": 81,
   "id": "8006ab9f",
   "metadata": {},
   "outputs": [
    {
     "name": "stdout",
     "output_type": "stream",
     "text": [
      "dsf sdfg ljn adfn s xvoklcv djsv ms sdf jh\n",
      "['dsf', 'sdfg', 'ljn', 'adfn', 's', 'xvoklcv', 'djsv', 'ms', 'sdf', 'jh']\n",
      "9\n",
      "['dsf', 'sdfg', 'ljn', 'adfn', 's', 'xvoklcv', 'djsv', 'ms', 'sdf']\n",
      "2\n",
      "['dsf', 'sdfg', 'adfn', 's', 'xvoklcv', 'djsv', 'ms', 'sdf']\n",
      "2\n"
     ]
    }
   ],
   "source": [
    "def vreditel(Spisok,index='nan'):\n",
    "    if index=='nan':\n",
    "        i=rd.choice(range(len(Spisok)))\n",
    "    else:\n",
    "        i=index\n",
    "    print(i)\n",
    "    del Spisok[i]\n",
    "    index=0\n",
    "S=input().split(' ')\n",
    "print(S)\n",
    "vreditel(S)\n",
    "print(S)\n",
    "i=2\n",
    "vreditel(S,i)\n",
    "print(S)\n",
    "print(i)"
   ]
  },
  {
   "cell_type": "markdown",
   "id": "d701f52c",
   "metadata": {},
   "source": [
    "# Мудрёные строки"
   ]
  },
  {
   "cell_type": "code",
   "execution_count": 82,
   "id": "add9f425",
   "metadata": {},
   "outputs": [
    {
     "name": "stdout",
     "output_type": "stream",
     "text": [
      "1234 46 oi kd 6 34 df 34jhb 98 dfg89 fg\n",
      "[1234, 46, 6, 34, 98] 1418\n"
     ]
    }
   ],
   "source": [
    "S=input().split(' ')\n",
    "Nums=[int(a) for a in S if a.isdigit()]   # Совмещён и цикл, и условие, и создание массива, и всё это одна строка.\n",
    "print(Nums,sum(Nums))"
   ]
  },
  {
   "cell_type": "code",
   "execution_count": 83,
   "id": "46a524b9",
   "metadata": {},
   "outputs": [
    {
     "name": "stdout",
     "output_type": "stream",
     "text": [
      "1234 46 oi kd 6 34 df 34jhb 98 dfg89 fg\n",
      "[1234, 46, 'NaN', 'NaN', 6, 34, 'NaN', 'NaN', 98, 'NaN', 'NaN']\n"
     ]
    }
   ],
   "source": [
    "S=input().split(' ')\n",
    "Nums=[int(a) if a.isdigit() else 'NaN' for a in S]   # Совмещён и цикл, и условие с элсом, и создание массива.\n",
    "print(Nums)"
   ]
  },
  {
   "cell_type": "markdown",
   "id": "28b32a84",
   "metadata": {},
   "source": [
    "# Полезные команды"
   ]
  },
  {
   "cell_type": "code",
   "execution_count": 85,
   "id": "38ca9743",
   "metadata": {},
   "outputs": [
    {
     "name": "stdout",
     "output_type": "stream",
     "text": [
      "range(3, 30, 2)\n",
      "[3, 5, 7, 9, 11, 13, 15, 17, 19, 21, 23, 25, 27, 29]\n"
     ]
    }
   ],
   "source": [
    "n=range(3,30,2)    # Начало, конец (не включая), шаг\n",
    "print(n)\n",
    "print(list(n))     # Если хотим массив, насильно переопределяем"
   ]
  },
  {
   "cell_type": "code",
   "execution_count": 86,
   "id": "2468f2a7",
   "metadata": {},
   "outputs": [
    {
     "name": "stdout",
     "output_type": "stream",
     "text": [
      "i=1, s=a, f=1.1\n",
      "i=2, s=b, f=2.2\n",
      "i=3, s=c, f=3.3\n",
      "i=4, s=d, f=4.4\n",
      "i=5, s=e, f=5.5\n"
     ]
    }
   ],
   "source": [
    "S1=[1,2,3,4,5]\n",
    "S2=['a','b','c','d','e']\n",
    "S3=[1.1, 2.2, 3.3, 4.4, 5.5]\n",
    "for i,s,f in zip(S1,S2,S3):\n",
    "    print('i={}, s={}, f={}'.format(i,s,f))"
   ]
  },
  {
   "cell_type": "code",
   "execution_count": 87,
   "id": "89f00e16",
   "metadata": {},
   "outputs": [
    {
     "name": "stdout",
     "output_type": "stream",
     "text": [
      "(3.0, 0)\n",
      "В вашем массиве чушь-с\n",
      "('error: Be carefull with your lists, my friend.', 0)\n",
      "(3.3, 0)\n"
     ]
    }
   ],
   "source": [
    "S=[S1,S2,S3]\n",
    "M=map(mean_Value,S)   # map применяет функцию (аргумент1) к каждому элементу списка (аргумент2), \n",
    "                      # но выдаёт итеративную штуку, по ней надо пробежаться  \n",
    "for m in M:\n",
    "    print(m)"
   ]
  },
  {
   "cell_type": "markdown",
   "id": "9f26aee1",
   "metadata": {},
   "source": [
    "# Классы"
   ]
  },
  {
   "cell_type": "code",
   "execution_count": 88,
   "id": "3fbf91b6",
   "metadata": {},
   "outputs": [],
   "source": [
    "class Zanyatie:\n",
    "    Number = 0\n",
    "    Theme = ''\n",
    "    def __init__(self,N,Th,IsP,D):  # Это конструктор. self - объект класса, который появится после применения конструктора.\n",
    "                                    # Этот аргумент надо писать всем функциям в классе.\n",
    "        self.Number=N\n",
    "        self.Theme=Th\n",
    "        self.Ispassed=IsP\n",
    "        self.Domasshka=D\n",
    "    \n",
    "    def IsThisPassed(self):\n",
    "        if self.Ispassed=='Нет':\n",
    "            return ('Это занятие ещё не прошло',self.Ispassed)\n",
    "        elif self.Ispassed=='Да':\n",
    "            return ('Занятие пройдено, но успешно ли? Вопрос...',self.Ispassed)\n",
    "        else:\n",
    "            return ('Ответ расплывчат',self.Ispassed)\n",
    "        \n",
    "    def ItWasDone(self):\n",
    "        if self.Ispassed=='Нет':\n",
    "            self.Ispassed='Да'\n",
    "            return ('Это победа',self.Ispassed)\n",
    "        else:\n",
    "            return ('Это уже было сделано до нас',self.Ispassed)\n",
    "    "
   ]
  },
  {
   "cell_type": "code",
   "execution_count": 89,
   "id": "ac93bc0a",
   "metadata": {},
   "outputs": [
    {
     "name": "stdout",
     "output_type": "stream",
     "text": [
      "Нет\n",
      "Это занятие ещё не прошло\n"
     ]
    }
   ],
   "source": [
    "Zanyatie_1 = Zanyatie(1,'Питонские основы', 'Нет',10)\n",
    "Zanyatie_2 = Zanyatie(2,'Питонские библиотеки', 'Нет',10)\n",
    "Zanyatie_3 = Zanyatie(3,'Оптимизация', 'Нет',2)\n",
    "Zanyatie_4 = Zanyatie(4,'Исследование функции', 'Нет',0.33)\n",
    "Zanyatie_5 = Zanyatie(5,'Возня со статистикой', 'Нет',3)\n",
    "Zanyatie_6 = Zanyatie(6,'Финальное чаепитие и приём отчётов', 'Нет',0)\n",
    "\n",
    "\n",
    "a,b=Zanyatie_1.IsThisPassed()\n",
    "print(b)\n",
    "print(a)"
   ]
  },
  {
   "cell_type": "code",
   "execution_count": 90,
   "id": "7f13b174",
   "metadata": {},
   "outputs": [
    {
     "name": "stdout",
     "output_type": "stream",
     "text": [
      "Да. Это победа\n",
      "Да\n"
     ]
    }
   ],
   "source": [
    "a,b=Zanyatie_1.ItWasDone()\n",
    "print(b+'. '+a)\n",
    "print(Zanyatie_1.Ispassed)"
   ]
  },
  {
   "cell_type": "markdown",
   "id": "05febe77",
   "metadata": {},
   "source": [
    "Домашка: 4 задачи. Сдавайте в файлике ДЗ1_БеличенкоМВ.ipynb"
   ]
  },
  {
   "cell_type": "markdown",
   "id": "55dbce7a",
   "metadata": {},
   "source": [
    "Задача 1: (Условие)"
   ]
  },
  {
   "cell_type": "code",
   "execution_count": 91,
   "id": "701fd8b7",
   "metadata": {},
   "outputs": [
    {
     "name": "stdout",
     "output_type": "stream",
     "text": [
      "Здесь могла быть ваша программа\n"
     ]
    }
   ],
   "source": [
    "print('Здесь могла быть ваша программа')"
   ]
  },
  {
   "cell_type": "markdown",
   "id": "07970a70",
   "metadata": {},
   "source": [
    "Задача 2: (Условие)"
   ]
  },
  {
   "cell_type": "code",
   "execution_count": 92,
   "id": "1e8ffb41",
   "metadata": {},
   "outputs": [
    {
     "data": {
      "text/plain": [
       "Ellipsis"
      ]
     },
     "execution_count": 92,
     "metadata": {},
     "output_type": "execute_result"
    }
   ],
   "source": [
    "..."
   ]
  },
  {
   "cell_type": "code",
   "execution_count": null,
   "id": "47376af7",
   "metadata": {},
   "outputs": [],
   "source": []
  }
 ],
 "metadata": {
  "kernelspec": {
   "display_name": "Python 3",
   "language": "python",
   "name": "python3"
  },
  "language_info": {
   "codemirror_mode": {
    "name": "ipython",
    "version": 3
   },
   "file_extension": ".py",
   "mimetype": "text/x-python",
   "name": "python",
   "nbconvert_exporter": "python",
   "pygments_lexer": "ipython3",
   "version": "3.8.8"
  }
 },
 "nbformat": 4,
 "nbformat_minor": 5
}
