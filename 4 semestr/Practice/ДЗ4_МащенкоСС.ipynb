{
 "cells": [
  {
   "cell_type": "code",
   "execution_count": null,
   "id": "09921226",
   "metadata": {},
   "outputs": [],
   "source": [
    "def our_max(f, x0, angle, step, tol):\n",
    "    xt = x0\n",
    "    ang = 0\n",
    "    if func(xt+step*sin(ang))<func(xt) and func(xt-step*sin(ang))<func(xt):\n",
    "        return xt\n",
    "    if func(xt)>func(xt+step*sin(ang)):\n",
    "        xt+=step\n",
    "        ang+=angle\n",
    "        step*=-1/4\n",
    "        angle*=-1/4\n",
    "    else:\n",
    "        xt+=step\n",
    "        ang+=angle"
   ]
  }
 ],
 "metadata": {
  "kernelspec": {
   "display_name": "Python 3",
   "language": "python",
   "name": "python3"
  },
  "language_info": {
   "codemirror_mode": {
    "name": "ipython",
    "version": 3
   },
   "file_extension": ".py",
   "mimetype": "text/x-python",
   "name": "python",
   "nbconvert_exporter": "python",
   "pygments_lexer": "ipython3",
   "version": "3.8.8"
  }
 },
 "nbformat": 4,
 "nbformat_minor": 5
}
