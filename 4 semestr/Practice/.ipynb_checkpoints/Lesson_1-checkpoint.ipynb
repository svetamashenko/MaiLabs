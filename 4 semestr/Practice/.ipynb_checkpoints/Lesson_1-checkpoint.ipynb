{
 "cells": [
  {
   "cell_type": "code",
   "execution_count": 1,
   "id": "37c5b3a1",
   "metadata": {
    "scrolled": false
   },
   "outputs": [
    {
     "data": {
      "text/plain": [
       "3"
      ]
     },
     "execution_count": 1,
     "metadata": {},
     "output_type": "execute_result"
    }
   ],
   "source": [
    "1+2"
   ]
  },
  {
   "cell_type": "code",
   "execution_count": 2,
   "id": "f65bb13f",
   "metadata": {},
   "outputs": [
    {
     "data": {
      "text/plain": [
       "True"
      ]
     },
     "execution_count": 2,
     "metadata": {},
     "output_type": "execute_result"
    }
   ],
   "source": [
    "1+2==3"
   ]
  },
  {
   "cell_type": "code",
   "execution_count": 4,
   "id": "2562bcd0",
   "metadata": {},
   "outputs": [
    {
     "name": "stdout",
     "output_type": "stream",
     "text": [
      "<class 'int'>\n",
      "10 ad\n",
      "<class 'float'>\n",
      "<class 'str'>\n",
      "<class 'bool'>\n",
      "<class 'complex'>\n"
     ]
    }
   ],
   "source": [
    "a=10\n",
    "print(type(a))\n",
    "print(a, \"ad\")\n",
    "a=10.21\n",
    "print(type(a))\n",
    "a=\"abra\"\n",
    "print(type(a))\n",
    "a=True\n",
    "print(type(a))\n",
    "a=10+2.25j\n",
    "print(type(a))"
   ]
  },
  {
   "cell_type": "code",
   "execution_count": null,
   "id": "45b749ac",
   "metadata": {},
   "outputs": [],
   "source": [
    "a=int(input())\n",
    "if a>=5:\n",
    "    print('{}, это хорошо.'.format(a))\n",
    "elif a<=5 and a>0:\n",
    "    print('{}... Маловато будет.'.format(a))\n",
    "else:\n",
    "    print('Да ты охамел!')"
   ]
  },
  {
   "cell_type": "code",
   "execution_count": 8,
   "id": "54968b5e",
   "metadata": {},
   "outputs": [
    {
     "name": "stdout",
     "output_type": "stream",
     "text": [
      "12 лет живёт наш Вася.\n",
      "Его температура сейчас 37.5 градусов. \n",
      "Сгодня у его класса контрольная,\n",
      "а он не может возвести в квадрат число (1+2j).\n",
      "True ли, что он болен?\n"
     ]
    }
   ],
   "source": [
    "# Вывод переменных разных типов\n",
    "a = \"Вася\"\n",
    "b = 12\n",
    "c= 37.5\n",
    "d=1+2j\n",
    "e = True\n",
    "print('{0} лет живёт наш {1}.'.format(b,a))\n",
    "print(\"Его температура сейчас \" + str(c) + \" градусов. \\nСгодня у его класса контрольная,\\nа он не может возвести в квадрат число \" + str(d) + \".\\n\" + str(e)+ \" ли, что он болен?\")\n"
   ]
  },
  {
   "cell_type": "code",
   "execution_count": 10,
   "id": "fa276386",
   "metadata": {},
   "outputs": [
    {
     "name": "stdout",
     "output_type": "stream",
     "text": [
      "11 <class 'int'>\n",
      "121 <class 'int'>\n",
      "12321 <class 'int'>\n",
      "12322 <class 'int'>\n",
      "1 <class 'int'>\n"
     ]
    },
    {
     "ename": "TypeError",
     "evalue": "can't convert complex to int",
     "output_type": "error",
     "traceback": [
      "\u001b[1;31m---------------------------------------------------------------------------\u001b[0m",
      "\u001b[1;31mTypeError\u001b[0m                                 Traceback (most recent call last)",
      "\u001b[1;32m<ipython-input-10-6bbe8100cb30>\u001b[0m in \u001b[0;36m<module>\u001b[1;34m\u001b[0m\n\u001b[0;32m     10\u001b[0m \u001b[0ma\u001b[0m\u001b[1;33m=\u001b[0m\u001b[0mint\u001b[0m\u001b[1;33m(\u001b[0m\u001b[1;32mTrue\u001b[0m\u001b[1;33m)\u001b[0m\u001b[1;33m\u001b[0m\u001b[1;33m\u001b[0m\u001b[0m\n\u001b[0;32m     11\u001b[0m \u001b[0mprint\u001b[0m\u001b[1;33m(\u001b[0m\u001b[0ma\u001b[0m\u001b[1;33m,\u001b[0m\u001b[0mtype\u001b[0m\u001b[1;33m(\u001b[0m\u001b[0ma\u001b[0m\u001b[1;33m)\u001b[0m\u001b[1;33m)\u001b[0m\u001b[1;33m\u001b[0m\u001b[1;33m\u001b[0m\u001b[0m\n\u001b[1;32m---> 12\u001b[1;33m \u001b[0ma\u001b[0m\u001b[1;33m=\u001b[0m\u001b[0mint\u001b[0m\u001b[1;33m(\u001b[0m\u001b[1;36m1\u001b[0m\u001b[1;33m+\u001b[0m\u001b[1;36m2j\u001b[0m\u001b[1;33m)\u001b[0m\u001b[1;33m\u001b[0m\u001b[1;33m\u001b[0m\u001b[0m\n\u001b[0m\u001b[0;32m     13\u001b[0m \u001b[0mprint\u001b[0m\u001b[1;33m(\u001b[0m\u001b[0ma\u001b[0m\u001b[1;33m,\u001b[0m\u001b[0mtype\u001b[0m\u001b[1;33m(\u001b[0m\u001b[0ma\u001b[0m\u001b[1;33m)\u001b[0m\u001b[1;33m)\u001b[0m\u001b[1;33m\u001b[0m\u001b[1;33m\u001b[0m\u001b[0m\n",
      "\u001b[1;31mTypeError\u001b[0m: can't convert complex to int"
     ]
    }
   ],
   "source": [
    "# Создание и преобразование типов в int\n",
    "a=11\n",
    "print(a,type(a))\n",
    "a=int('121')\n",
    "print(a,type(a))\n",
    "a=int(12321.795782)\n",
    "print(a,type(a))\n",
    "a=int(round(12321.795782))\n",
    "print(a,type(a))\n",
    "a=int(True)\n",
    "print(a,type(a))\n",
    "a=int(1+2j)\n",
    "print(a,type(a))"
   ]
  },
  {
   "cell_type": "code",
   "execution_count": 12,
   "id": "d8617ce1",
   "metadata": {},
   "outputs": [
    {
     "name": "stdout",
     "output_type": "stream",
     "text": [
      "14 <class 'int'>\n",
      "8 <class 'int'>\n",
      "33 <class 'int'>\n",
      "3.6666666666666665 <class 'float'>\n",
      "3 <class 'int'>\n",
      "2 <class 'int'>\n",
      "1331 <class 'int'>\n"
     ]
    }
   ],
   "source": [
    "# Операции с int\n",
    "a=11; b=3\n",
    "print(a+b,type(a+b))\n",
    "print(a-b,type(a-b))\n",
    "print(a*b,type(a*b))\n",
    "print(a/b,type(a/b))   # Обычное деление, результат - float\n",
    "print(a//b,type(a//b)) # Целочисленное деление\n",
    "print(a%b,type(a%b))   # Остаток от деления\n",
    "print(a**b,type(a**b))"
   ]
  },
  {
   "cell_type": "code",
   "execution_count": 13,
   "id": "8c39b296",
   "metadata": {},
   "outputs": [
    {
     "name": "stdout",
     "output_type": "stream",
     "text": [
      "14.137 <class 'float'>\n",
      "8.082999999999998 <class 'float'>\n",
      "33.62997 <class 'float'>\n",
      "3.6703006276841754 <class 'float'>\n",
      "3.0 <class 'float'>\n",
      "2.028999999999999 <class 'float'>\n",
      "1463.4451726405034 <class 'float'>\n"
     ]
    }
   ],
   "source": [
    "# Операции с float\n",
    "a=11.11; b=3.027\n",
    "print(a+b,type(a+b))\n",
    "print(a-b,type(a-b))\n",
    "print(a*b,type(a*b))\n",
    "print(a/b,type(a/b))   # Обычное деление, результат - float\n",
    "print(a//b,type(a//b)) # Целочисленное деление\n",
    "print(a%b,type(a%b))   # Остаток от деления\n",
    "print(a**b,type(a**b))"
   ]
  },
  {
   "cell_type": "code",
   "execution_count": 15,
   "id": "b7c38437",
   "metadata": {},
   "outputs": [
    {
     "name": "stdout",
     "output_type": "stream",
     "text": [
      "0.6000000000000001\n"
     ]
    },
    {
     "data": {
      "text/plain": [
       "True"
      ]
     },
     "execution_count": 15,
     "metadata": {},
     "output_type": "execute_result"
    }
   ],
   "source": [
    "a=0.2+0.2+0.2\n",
    "print(a)\n",
    "a==0.6\n",
    "abs(a-0.6)<0.0000000000001"
   ]
  },
  {
   "cell_type": "code",
   "execution_count": 17,
   "id": "6a08ed53",
   "metadata": {},
   "outputs": [
    {
     "name": "stdout",
     "output_type": "stream",
     "text": [
      "это первый способ\n",
      "это второй\n",
      "а это третий способ\n",
      "для задания длинных\n",
      "многострочных штук\n"
     ]
    }
   ],
   "source": [
    "# Способы задания строк\n",
    "a='это первый способ'\n",
    "b=\"это второй\"\n",
    "c='''а это третий способ\n",
    "для задания длинных\n",
    "многострочных штук'''\n",
    "print(a+'\\n'+b+'\\n'+c)"
   ]
  },
  {
   "cell_type": "code",
   "execution_count": 22,
   "id": "284059bd",
   "metadata": {},
   "outputs": [
    {
     "name": "stdout",
     "output_type": "stream",
     "text": [
      "abcccde\n",
      "a\n",
      "В строке s1 7 символов\n",
      "acce\n",
      "Здесь лежит много слов\n",
      "лежит\n",
      "['Здесь', 'лежит', 'много', 'слов']\n",
      "Здесь, видимо, лежит, видимо, много, видимо, слов\n",
      "['а это третий способ', 'для задания длинных', 'многострочных штук']\n",
      "['а это третий ', 'по', 'об\\nдля задания длинных\\nмного', 'трочных штук']\n"
     ]
    }
   ],
   "source": [
    "# Операции со строками\n",
    "s1 = 'a'+'b'+'c'*3+'d'+'e'\n",
    "print(s1)\n",
    "print(s1[0])\n",
    "print('В строке s1 '+str(len(s1))+' символов')\n",
    "print(s1[0:7:2]) #  начало(вкл) : конец(выкл) : шаг\n",
    "\n",
    "s2 = 'Здесь лежит много слов'\n",
    "print(s2)\n",
    "Slova=s2.split(' ') # разделяет строку по разделителю\n",
    "print(Slova[1])\n",
    "print(Slova)\n",
    "A=', видимо, '.join(Slova)\n",
    "print(A)\n",
    "\n",
    "print(c.split('\\n'))\n",
    "print(c.split('с'))"
   ]
  },
  {
   "cell_type": "code",
   "execution_count": 25,
   "id": "1d993bec",
   "metadata": {},
   "outputs": [
    {
     "name": "stdout",
     "output_type": "stream",
     "text": [
      "True\n",
      "False\n",
      "True\n",
      "False\n",
      "True\n",
      "True\n",
      "True\n",
      "True\n",
      "False\n"
     ]
    }
   ],
   "source": [
    "# Булевы штуки\n",
    "print(3==3)\n",
    "print(3=='3')\n",
    "print(3==3.0)\n",
    "print(0.3+0.3+0.3==0.9) #!!!\n",
    "print(0.3+0.3+0.3+0.3==1.2) #!!!\n",
    "print(3>2 and 4<5)\n",
    "print(1>2 or 2<3)\n",
    "print('a' in 'abc')\n",
    "print('b' not in 'hbndkrf')"
   ]
  },
  {
   "cell_type": "code",
   "execution_count": 30,
   "id": "170264d4",
   "metadata": {},
   "outputs": [
    {
     "name": "stdout",
     "output_type": "stream",
     "text": [
      "[1, 2, 3]\n",
      "[]\n",
      "['a', 'bc', 'def']\n",
      "[[1, 2], [3, 4]]\n",
      "[1, 2.5, (3+4j), 'a']\n",
      "<class 'int'> <class 'float'> <class 'complex'> <class 'str'>\n",
      "[1, 2, 3, 'a', 'bc', 'def']\n"
     ]
    }
   ],
   "source": [
    "S1=[1,2,3]\n",
    "print(S1)\n",
    "S2=[]\n",
    "print(S2)\n",
    "S3=['a','bc','def']\n",
    "print(S3)\n",
    "S4=[[1,2],[3,4]]\n",
    "print(S4)\n",
    "S5=list([1, 2.5, 3+4j, 'a'])\n",
    "print(S5)\n",
    "print(type(S5[0]),type(S5[1]),type(S5[2]),type(S5[3]))\n",
    "print(S1+S3)"
   ]
  },
  {
   "cell_type": "code",
   "execution_count": 31,
   "id": "2ac9174f",
   "metadata": {},
   "outputs": [
    {
     "name": "stdout",
     "output_type": "stream",
     "text": [
      "4\n",
      "8\n",
      "[3, 4, 5]\n",
      "[2, 4, 6]\n",
      "[1, 4, 7]\n",
      "[2, 6]\n"
     ]
    }
   ],
   "source": [
    "S=[1,2,3,4,5,6,7,8,9]\n",
    "print(S[3])      # индекс четвертого элемента\n",
    "print(S[-2])     # индекс препоследнего элемента\n",
    "print(S[2:5])    # кусок массива с индексами от 2 до 5. 6 (под индексом 5) не включается\n",
    "print(S[1:-3:2]) # кусок массива со второго по предпредпоследний, но через раз (шаг 2)\n",
    "print(S[::3])    # каждый третий элемент\n",
    "print(S[1::4])   # каждый четвертый элемент, начиная со второго"
   ]
  },
  {
   "cell_type": "code",
   "execution_count": 32,
   "id": "5f05e47a",
   "metadata": {},
   "outputs": [
    {
     "name": "stdout",
     "output_type": "stream",
     "text": [
      "['Нечто новое', 2, 3, 4, 5, 6, 7, 8, 9]\n",
      "['Нечто новое', 2, 3, 4, 5, 6, 7, 8, 9]\n",
      "[1, 2, 3, 4, 5, 6, 7, 8, 9]\n"
     ]
    }
   ],
   "source": [
    "S1=S\n",
    "S2=S.copy()\n",
    "S1[0]='Нечто новое'\n",
    "print(S) # Список - ссылочный тип. Меняешь один, другой, указывающий туда же, тоже меняется.\n",
    "print(S1)\n",
    "print(S2)"
   ]
  },
  {
   "cell_type": "code",
   "execution_count": 43,
   "id": "7906db45",
   "metadata": {},
   "outputs": [
    {
     "name": "stdout",
     "output_type": "stream",
     "text": [
      "5\n",
      "['a', 'a', 'b', 'c', 'e', 'd']\n",
      "['a', 'a', 'c', 'e', 'd']\n",
      "['a', 'c', 'e', 'd']\n",
      "['a', 'c', 'd', 'e']\n",
      "['a', 'c', 'e', 'd']\n",
      "['a', 'c', 'd', 'e']\n",
      "a(0_0)c(0_0)d(0_0)e\n",
      "[]\n",
      "range(0, 15, 3) 9\n",
      "[0, 3, 6, 9, 12]\n",
      "[12, 9, 6, 3, 0]\n"
     ]
    }
   ],
   "source": [
    "# Команды, связанные со списками\n",
    "S=['a','a','b','c','e']\n",
    "print(len(S))          # len() - длина массива\n",
    "S.append('d')          # добавляет элемент (в конец)\n",
    "print(S)\n",
    "del S[2]               # удаление по индексу\n",
    "print(S)\n",
    "S.remove('a')          # удаление по значению (первое вхождение)\n",
    "print(S)\n",
    "print(sorted(S))       # вывод команды - отсортированный список, без изменения самого списка\n",
    "print(S) \n",
    "S.sort()               # команда сортирует список,изменяя его самого\n",
    "print(S) \n",
    "print('(0_0)'.join(S)) # объединяет в текстовую строку (только для строк)\n",
    "S.clear()\n",
    "print(S)\n",
    "S = range(0,15,3)\n",
    "print(S, S[3])\n",
    "S=list(range(0,15,3))\n",
    "print(S)\n",
    "print(S[::-1])"
   ]
  },
  {
   "cell_type": "code",
   "execution_count": 42,
   "id": "4dc294d4",
   "metadata": {},
   "outputs": [
    {
     "name": "stdout",
     "output_type": "stream",
     "text": [
      "[1, 1, 2, 3.0, 4]\n"
     ]
    }
   ],
   "source": [
    "S=[1,1,2,4,3.0]\n",
    "print(sorted(S))"
   ]
  },
  {
   "cell_type": "code",
   "execution_count": 44,
   "id": "089a6358",
   "metadata": {},
   "outputs": [
    {
     "name": "stdout",
     "output_type": "stream",
     "text": [
      "(1, 2, 3)\n",
      "2\n"
     ]
    },
    {
     "ename": "TypeError",
     "evalue": "'tuple' object does not support item assignment",
     "output_type": "error",
     "traceback": [
      "\u001b[1;31m---------------------------------------------------------------------------\u001b[0m",
      "\u001b[1;31mTypeError\u001b[0m                                 Traceback (most recent call last)",
      "\u001b[1;32m<ipython-input-44-b6e064bac54b>\u001b[0m in \u001b[0;36m<module>\u001b[1;34m\u001b[0m\n\u001b[0;32m      3\u001b[0m \u001b[0mprint\u001b[0m\u001b[1;33m(\u001b[0m\u001b[0mt\u001b[0m\u001b[1;33m)\u001b[0m\u001b[1;33m\u001b[0m\u001b[1;33m\u001b[0m\u001b[0m\n\u001b[0;32m      4\u001b[0m \u001b[0mprint\u001b[0m\u001b[1;33m(\u001b[0m\u001b[0mt\u001b[0m\u001b[1;33m[\u001b[0m\u001b[1;36m1\u001b[0m\u001b[1;33m]\u001b[0m\u001b[1;33m)\u001b[0m\u001b[1;33m\u001b[0m\u001b[1;33m\u001b[0m\u001b[0m\n\u001b[1;32m----> 5\u001b[1;33m \u001b[0mt\u001b[0m\u001b[1;33m[\u001b[0m\u001b[1;36m1\u001b[0m\u001b[1;33m]\u001b[0m\u001b[1;33m=\u001b[0m\u001b[1;36m2\u001b[0m\u001b[1;33m\u001b[0m\u001b[1;33m\u001b[0m\u001b[0m\n\u001b[0m",
      "\u001b[1;31mTypeError\u001b[0m: 'tuple' object does not support item assignment"
     ]
    }
   ],
   "source": [
    "# кортеж, неизменяемый список\n",
    "t=(1,2,3) # круглые скобки\n",
    "print(t)\n",
    "print(t[1])\n",
    "t[1]=2 # менять нельзя"
   ]
  },
  {
   "cell_type": "code",
   "execution_count": 3,
   "id": "8f68f1ec",
   "metadata": {},
   "outputs": [
    {
     "ename": "NameError",
     "evalue": "name 't' is not defined",
     "output_type": "error",
     "traceback": [
      "\u001b[1;31m---------------------------------------------------------------------------\u001b[0m",
      "\u001b[1;31mNameError\u001b[0m                                 Traceback (most recent call last)",
      "\u001b[1;32m<ipython-input-3-bcbd0415d9ae>\u001b[0m in \u001b[0;36m<module>\u001b[1;34m\u001b[0m\n\u001b[1;32m----> 1\u001b[1;33m \u001b[0ma\u001b[0m\u001b[1;33m,\u001b[0m\u001b[0mb\u001b[0m\u001b[1;33m,\u001b[0m\u001b[0mc\u001b[0m \u001b[1;33m=\u001b[0m \u001b[0mt\u001b[0m\u001b[1;33m\u001b[0m\u001b[1;33m\u001b[0m\u001b[0m\n\u001b[0m\u001b[0;32m      2\u001b[0m \u001b[0mprint\u001b[0m\u001b[1;33m(\u001b[0m\u001b[0ma\u001b[0m\u001b[1;33m,\u001b[0m\u001b[0mb\u001b[0m\u001b[1;33m,\u001b[0m\u001b[0mc\u001b[0m\u001b[1;33m)\u001b[0m\u001b[1;33m\u001b[0m\u001b[1;33m\u001b[0m\u001b[0m\n\u001b[0;32m      3\u001b[0m \u001b[0ma\u001b[0m\u001b[1;33m,\u001b[0m\u001b[0mb\u001b[0m\u001b[1;33m,\u001b[0m\u001b[0mc\u001b[0m\u001b[1;33m=\u001b[0m\u001b[1;33m[\u001b[0m\u001b[1;34m'4'\u001b[0m\u001b[1;33m,\u001b[0m\u001b[1;34m'5'\u001b[0m\u001b[1;33m,\u001b[0m\u001b[1;34m'6'\u001b[0m\u001b[1;33m]\u001b[0m\u001b[1;33m\u001b[0m\u001b[1;33m\u001b[0m\u001b[0m\n\u001b[0;32m      4\u001b[0m \u001b[0mprint\u001b[0m\u001b[1;33m(\u001b[0m\u001b[0ma\u001b[0m\u001b[1;33m,\u001b[0m\u001b[0mb\u001b[0m\u001b[1;33m,\u001b[0m\u001b[0mc\u001b[0m\u001b[1;33m)\u001b[0m\u001b[1;33m\u001b[0m\u001b[1;33m\u001b[0m\u001b[0m\n\u001b[0;32m      5\u001b[0m \u001b[0ma\u001b[0m\u001b[1;33m,\u001b[0m\u001b[0mb\u001b[0m\u001b[1;33m=\u001b[0m\u001b[0mt\u001b[0m \u001b[1;31m# так делать нельзя\u001b[0m\u001b[1;33m\u001b[0m\u001b[1;33m\u001b[0m\u001b[0m\n",
      "\u001b[1;31mNameError\u001b[0m: name 't' is not defined"
     ]
    }
   ],
   "source": [
    "a,b,c = t\n",
    "print(a,b,c)\n",
    "a,b,c=['4','5','6']\n",
    "print(a,b,c)\n",
    "a,b=t # так делать нельзя\n",
    "print(a,b)"
   ]
  },
  {
   "cell_type": "code",
   "execution_count": 2,
   "id": "5fdc705b",
   "metadata": {},
   "outputs": [
    {
     "name": "stdout",
     "output_type": "stream",
     "text": [
      "(4, 1)\n",
      "4 1\n"
     ]
    }
   ],
   "source": [
    "print(divmod(13,3))\n",
    "a,b = divmod(13,3)\n",
    "print(a,b)"
   ]
  },
  {
   "cell_type": "code",
   "execution_count": null,
   "id": "9e0ab2e2",
   "metadata": {},
   "outputs": [],
   "source": [
    "# Словарь:37, множество:40"
   ]
  },
  {
   "cell_type": "code",
   "execution_count": 4,
   "id": "e1e1438f",
   "metadata": {},
   "outputs": [
    {
     "name": "stdout",
     "output_type": "stream",
     "text": [
      "6\n",
      "6, это хорошо.\n",
      "5\n"
     ]
    }
   ],
   "source": [
    "a=int(input())\n",
    "if a>=5:\n",
    "    print('{}, это хорошо.'.format(a))\n",
    "    a=a-1\n",
    "    print(a)\n",
    "elif a<=5 and a>0:\n",
    "    print('{}... Маловато будет.'.format(a))\n",
    "else:\n",
    "    print('Да ты охамел!')"
   ]
  },
  {
   "cell_type": "code",
   "execution_count": 7,
   "id": "1382351a",
   "metadata": {},
   "outputs": [
    {
     "name": "stdout",
     "output_type": "stream",
     "text": [
      "1\n",
      "1\n",
      "4\n",
      "27\n",
      "256\n",
      "3125\n",
      "46656\n",
      "823543\n",
      "16777216\n",
      "387420489\n"
     ]
    }
   ],
   "source": [
    "for a in range(10):\n",
    "    print(a**a) # возведение в степень"
   ]
  },
  {
   "cell_type": "code",
   "execution_count": 6,
   "id": "ce22e1de",
   "metadata": {},
   "outputs": [
    {
     "name": "stdout",
     "output_type": "stream",
     "text": [
      "Введите длинную строку: Буря мглою небо кроет, вихри снежные крутя; то как зверь она завоет, то заплачет, как дитя.\n",
      "В слове Буря 4 букв.\n",
      "В слове мглою 5 букв.\n",
      "В слове небо 4 букв.\n",
      "В слове кроет, 6 букв.\n",
      "В слове вихри 5 букв.\n",
      "В слове снежные 7 букв.\n",
      "В слове крутя; 6 букв.\n",
      "В слове то 2 букв.\n",
      "В слове как 3 букв.\n",
      "В слове зверь 5 букв.\n",
      "В слове она 3 букв.\n",
      "В слове завоет, 7 букв.\n",
      "В слове то 2 букв.\n",
      "В слове заплачет, 9 букв.\n",
      "В слове как 3 букв.\n",
      "В слове дитя. 5 букв.\n",
      "А всего в этой строке 76 букв.\n"
     ]
    }
   ],
   "source": [
    "Stroka=input(\"Введите длинную строку: \")\n",
    "Spisok = Stroka.split(' ') # Буря мглою небо кроет, вихри снежные крутя; то как зверь она завоет, то заплачет, как дитя.\n",
    "Bukvos=[]\n",
    "for Slovo in Spisok:\n",
    "    Bukvos.append(len(Slovo))\n",
    "    print('В слове ' + Slovo+' ' + str(len(Slovo)) + ' букв.')\n",
    "print('А всего в этой строке ' + str(sum(Bukvos))+ ' букв.')"
   ]
  },
  {
   "cell_type": "code",
   "execution_count": 9,
   "id": "9f229d8a",
   "metadata": {},
   "outputs": [
    {
     "name": "stdout",
     "output_type": "stream",
     "text": [
      "Буря мглою небо кроет, вихри снежные крутя\n",
      "Б\n",
      "у\n",
      "р\n",
      "я\n",
      " \n",
      "м\n",
      "г\n",
      "л\n",
      "о\n",
      "ю\n",
      " \n",
      "н\n",
      "е\n",
      "б\n",
      "о\n",
      " \n",
      "к\n",
      "р\n",
      "о\n",
      "е\n",
      "т\n",
      ",\n",
      " \n",
      "в\n",
      "и\n",
      "х\n",
      "р\n",
      "и\n",
      " \n",
      "с\n",
      "н\n",
      "е\n",
      "ж\n",
      "н\n",
      "ы\n",
      "е\n",
      " \n",
      "к\n",
      "р\n",
      "у\n",
      "т\n",
      "я\n"
     ]
    }
   ],
   "source": [
    "Stroka=input()\n",
    "for bukva in Stroka:\n",
    "    print(bukva)"
   ]
  },
  {
   "cell_type": "code",
   "execution_count": 10,
   "id": "9f7c2f7b",
   "metadata": {},
   "outputs": [
    {
     "name": "stdout",
     "output_type": "stream",
     "text": [
      "10\n",
      "Ещё не справился. Пока только 0.35368046814051735, а надо 10.\n",
      "Ещё не справился. Пока только 1.0151815080483817, а надо 10.\n",
      "Ещё не справился. Пока только 1.3914510173480488, а надо 10.\n",
      "Ещё не справился. Пока только 1.8208042113033356, а надо 10.\n",
      "Ещё не справился. Пока только 2.738654511201752, а надо 10.\n",
      "Ещё не справился. Пока только 3.5525007730146823, а надо 10.\n",
      "Ещё не справился. Пока только 4.467301505155752, а надо 10.\n",
      "Ещё не справился. Пока только 5.4044346283562, а надо 10.\n",
      "Ещё не справился. Пока только 5.439418433571716, а надо 10.\n",
      "Ещё не справился. Пока только 5.544855506388509, а надо 10.\n",
      "Ещё не справился. Пока только 5.7817252185339045, а надо 10.\n",
      "Ещё не справился. Пока только 6.180969249269708, а надо 10.\n",
      "Ещё не справился. Пока только 7.037538308038859, а надо 10.\n",
      "Ещё не справился. Пока только 7.916124326896899, а надо 10.\n",
      "Ещё не справился. Пока только 7.9998923463122065, а надо 10.\n",
      "Ещё не справился. Пока только 8.905520164289197, а надо 10.\n",
      "Ещё не справился. Пока только 9.486624542062724, а надо 10.\n",
      "Ещё не справился. Пока только 9.583729521167681, а надо 10.\n",
      "Ещё не справился. Пока только 10.485161331452119, а надо 10.\n",
      "Молодец, выпей чаю.\n"
     ]
    }
   ],
   "source": [
    "import random as rd\n",
    "N=int(input())\n",
    "a=0\n",
    "while a<N:\n",
    "    a+=rd.random()\n",
    "    print('Ещё не справился. Пока только {}, а надо {}.'.format(a,N))\n",
    "print('Молодец, выпей чаю.')"
   ]
  },
  {
   "cell_type": "markdown",
   "id": "fa4d3244",
   "metadata": {},
   "source": [
    "# Функции"
   ]
  },
  {
   "cell_type": "code",
   "execution_count": null,
   "id": "c8fdd7c2",
   "metadata": {},
   "outputs": [],
   "source": []
  }
 ],
 "metadata": {
  "kernelspec": {
   "display_name": "Python 3",
   "language": "python",
   "name": "python3"
  },
  "language_info": {
   "codemirror_mode": {
    "name": "ipython",
    "version": 3
   },
   "file_extension": ".py",
   "mimetype": "text/x-python",
   "name": "python",
   "nbconvert_exporter": "python",
   "pygments_lexer": "ipython3",
   "version": "3.8.8"
  }
 },
 "nbformat": 4,
 "nbformat_minor": 5
}
