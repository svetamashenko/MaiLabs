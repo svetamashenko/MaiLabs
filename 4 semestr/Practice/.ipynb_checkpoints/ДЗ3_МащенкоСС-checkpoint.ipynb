{
 "cells": [
  {
   "cell_type": "markdown",
   "id": "d0fca2ea",
   "metadata": {},
   "source": [
    "Задание 1.2: Напишите функции:\n",
    "· our_root(f, x0, step, tol),\n",
    "· our_max(f, x0, step, tol),\n",
    "· our_min(f, x0, step, tol),\n",
    "осуществляющие численный поиск корня, максимума и минимума функции одной переменной f(x) в окрестности точки x0 с точностью (по x) tol и начальным шагом step. Примените её к следующей функции, а также сравните с результатом символьного вычисления (через решение уравнения равенства нулю функции, её производной, проверки знака второй производной…)\n",
    "\n",
    "f = x^4-3x^3-21x^2+43x+60"
   ]
  },
  {
   "cell_type": "code",
   "execution_count": 122,
   "id": "7f7038f5",
   "metadata": {},
   "outputs": [
    {
     "name": "stdout",
     "output_type": "stream",
     "text": [
      "*ПОИСК КОРНЯ*\n",
      "Символьный метод:  [-4, -1, 3, 5]\n",
      "Численный метод: [ -4 , -1 , 3 , 5 ]\n",
      "\n",
      "*ПОИСК МИНИМУМА*\n",
      "Символьный метод:  [-2.82158579] [4.15453658]\n",
      "Численный метод: [ -2.821585786342619 , 4.154536622762675 ]\n",
      "\n",
      "*ПОИСК МАКСИМУМА*\n",
      "Символьный метод:  [0.91704917]\n",
      "Численный метод: [ 0.9170491546392441 ]\n",
      "\n"
     ]
    },
    {
     "data": {
      "text/latex": [
       "$\\displaystyle x^{4} - 3 x^{3} - 21 x^{2} + 43 x + 60$"
      ],
      "text/plain": [
       "x**4 - 3*x**3 - 21*x**2 + 43*x + 60"
      ]
     },
     "execution_count": 122,
     "metadata": {},
     "output_type": "execute_result"
    }
   ],
   "source": [
    "import sympy as sp\n",
    "from scipy import optimize\n",
    "    \n",
    "def f(v):\n",
    "    return v**4-3*v**3-21*v**2+43*v+60 \n",
    "\n",
    "def mf(v):\n",
    "    return -v**4+3*v**3+21*v**2-43*v-60 \n",
    "\n",
    "def our_root(f, x0, step, tol):\n",
    "    c = 1\n",
    "    a=x0\n",
    "    if f.evalf(subs={x:x0})==0:\n",
    "        return x0\n",
    "    elif f.evalf(subs={x:x0})<0:\n",
    "        if f.evalf(subs={x:x0+step})<f.evalf(subs={x:x0}):\n",
    "            while f.evalf(subs={x:x0+c*step})<0:\n",
    "                c=c+1\n",
    "                y=f.evalf(subs={x:x0+c*step})           \n",
    "                a = x0+c*step\n",
    "        else:\n",
    "            while f.evalf(subs={x:x0-c*step})<0:\n",
    "                c=c+1\n",
    "                y=f.evalf(subs={x:x0-c*step})           \n",
    "                a = x0-c*step\n",
    "    else:\n",
    "        if f.evalf(subs={x:x0+step})<f.evalf(subs={x:x0}):\n",
    "            while f.evalf(subs={x:x0+c*step})>0:\n",
    "                c=c+1\n",
    "                y=f.evalf(subs={x:x0+c*step})            \n",
    "                a = x0+c*step\n",
    "        else:\n",
    "            while f.evalf(subs={x:x0-c*step})>0:\n",
    "                c=c+1\n",
    "                y=f.evalf(subs={x:x0-c*step})\n",
    "                a = x0-c*step\n",
    "    a=a-step\n",
    "    while f.evalf(subs={x:a})<-tol or f.evalf(subs={x:a})>tol:\n",
    "                a+=tol\n",
    "    return a  \n",
    "\n",
    "def our_min(f, x0, step, tol):\n",
    "    xt = x0\n",
    "    while f.evalf(subs={x:xt+step})>f.evalf(subs={x:xt}) or f.evalf(subs={x:xt-step})>f.evalf(subs={x:xt}):\n",
    "        if f.evalf(subs={x:xt+step})>f.evalf(subs={x:xt}):\n",
    "            xt-=step\n",
    "            step*=1/4\n",
    "        else:\n",
    "            xt+=step\n",
    "    return xt\n",
    "\n",
    "def our_max(f, x0, step, tol):\n",
    "    xt = x0\n",
    "    while f.evalf(subs={x:xt+step})<f.evalf(subs={x:xt}) or f.evalf(subs={x:xt-step})<f.evalf(subs={x:xt}):\n",
    "        if f.evalf(subs={x:xt+step})>f.evalf(subs={x:xt}):\n",
    "            xt+=step\n",
    "            step*=1/4\n",
    "        else:\n",
    "            xt-=step\n",
    "    while f.evalf(subs={x:xt+tol})>f.evalf(subs={x:xt}):\n",
    "        xt+=tol\n",
    "    while f.evalf(subs={x:xt-tol})>f.evalf(subs={x:xt}):\n",
    "        xt-=tol    \n",
    "    return xt\n",
    "\n",
    "x = sp.Symbol('x')\n",
    "ourf = x**4-3*x**3-21*x**2+43*x+60\n",
    "\n",
    "\n",
    "# Поиск корня:\n",
    "print('*ПОИСК КОРНЯ*\\nСимвольный метод: ', sp.solve(sp.Eq(ourf,0)))\n",
    "print('Численный метод: [', round(our_root(ourf, -5, 0.03, 0.001)),',' , round(our_root(ourf, 0, 0.03, 0.001)),',', round(our_root(ourf, 3, 0.03, 0.001)),',', round(our_root(ourf, 6, 0.03, 0.001)),']\\n')\n",
    "\n",
    "\n",
    "# Поиск минимума:\n",
    "print('*ПОИСК МИНИМУМА*\\nСимвольный метод: ', optimize.minimize(f, -10).x, optimize.minimize(f, 10).x)\n",
    "print('Численный метод: [', our_min(ourf, -4, 0.1, 0.000000001),',' , our_min(ourf, 4, 0.1, 0.000000001), ']\\n')\n",
    "\n",
    "\n",
    "# Поиск максимума:\n",
    "print('*ПОИСК МАКСИМУМА*\\nСимвольный метод: ', optimize.minimize(mf, 2).x)\n",
    "print('Численный метод: [', our_max(ourf, 2, 1, 0.0000000001), ']\\n')\n",
    "\n",
    "ourf"
   ]
  },
  {
   "cell_type": "markdown",
   "id": "ebd64b3c",
   "metadata": {},
   "source": [
    "Задание 2.2: Напишите функцию our_TwoVarsMinimum(f, x0, step, tol), осуществляющую численный поиск минимума функции двух переменных f в окрестности начальной точки x0=(x10,x20) с точностью tol и начальным шагом step. Примените её к следующей функции, а также сравните с результатом символьного вычисления (…)\n",
    "\n",
    "F = 18x^2-7xy+6y^2+2x+13y+5"
   ]
  },
  {
   "cell_type": "code",
   "execution_count": 118,
   "id": "24b1440d",
   "metadata": {},
   "outputs": [
    {
     "name": "stdout",
     "output_type": "stream",
     "text": [
      "*РЕЗУЛЬТАТ РАБОТЫ:*\n",
      "\n",
      " [-0.30026111 -1.25848567]\n",
      "[-0.3002420552074909, -1.2584745387236276]\n"
     ]
    },
    {
     "data": {
      "text/latex": [
       "$\\displaystyle 18 x^{2} - 7 x y + 2 x + 6 y^{2} + 13 y + 5$"
      ],
      "text/plain": [
       "18*x**2 - 7*x*y + 2*x + 6*y**2 + 13*y + 5"
      ]
     },
     "execution_count": 118,
     "metadata": {},
     "output_type": "execute_result"
    }
   ],
   "source": [
    "import sympy as sp\n",
    "from scipy import optimize\n",
    "\n",
    "def f(x0):\n",
    "    return 18*x0[0]**2-7*x0[0]*x0[1]+6*x0[1]**2+2*x0[0]+13*x0[1]+5\n",
    "\n",
    "def our_TwoVarsMinimum(f, x0, step, tol, niter=10000):\n",
    "    fnow = 0\n",
    "    fpre = 2 * tol\n",
    "    xtemp=x0[0]\n",
    "    ytemp=x0[1]\n",
    "    while abs(fnow-fpre)>tol:\n",
    "        fpre = f.evalf(subs={x:xtemp, y:ytemp})\n",
    "        xtemp= our_min(f.evalf(subs={y:ytemp}),xtemp,step,tol)\n",
    "        ytemp= our_min(f.evalf(subs={x:xtemp}).subs(y,x),ytemp,step,tol)\n",
    "        fnow = f.subs(x,xtemp).subs(y,ytemp)\n",
    "    return [xtemp,ytemp]\n",
    "\n",
    "x = sp.Symbol('x')\n",
    "y = sp.Symbol('y')\n",
    "ourg = 18*x**2-7*x*y+6*y**2+2*x+13*y+5\n",
    "x0 = [0, 0]\n",
    "\n",
    "print(\"*РЕЗУЛЬТАТ РАБОТЫ:*\\n\\n\", optimize.minimize(f, x0).x)\n",
    "print(our_TwoVarsMinimum(ourg, x0, 0.5, 0.000001))\n",
    "\n",
    "ourg"
   ]
  }
 ],
 "metadata": {
  "kernelspec": {
   "display_name": "Python 3",
   "language": "python",
   "name": "python3"
  },
  "language_info": {
   "codemirror_mode": {
    "name": "ipython",
    "version": 3
   },
   "file_extension": ".py",
   "mimetype": "text/x-python",
   "name": "python",
   "nbconvert_exporter": "python",
   "pygments_lexer": "ipython3",
   "version": "3.8.8"
  }
 },
 "nbformat": 4,
 "nbformat_minor": 5
}
